{
 "cells": [
  {
   "cell_type": "markdown",
   "id": "e7817c0a-278e-452a-8dcc-4e581fdc88a4",
   "metadata": {},
   "source": [
    "*Question 1 part 2: Take input for the users*"
   ]
  },
  {
   "cell_type": "code",
   "execution_count": 3,
   "id": "0e46d064-c5cb-42a3-ad1e-50cb407b6fbf",
   "metadata": {},
   "outputs": [
    {
     "name": "stdin",
     "output_type": "stream",
     "text": [
      "Enter the number : 2\n",
      "enter the element {i} 11\n",
      "enter the element {i} 11\n"
     ]
    },
    {
     "name": "stdout",
     "output_type": "stream",
     "text": [
      "[11, 11]\n"
     ]
    }
   ],
   "source": [
    "# asking user to enter the number which he want to fix\n",
    "n=int(input(\"Enter the number :\"))\n",
    "\n",
    "list1=[]\n",
    "for i in range(0,n):\n",
    "    user=int(input(\"enter the element {i}\"))\n",
    "    list1.append(user)\n",
    "print(list1)"
   ]
  },
  {
   "cell_type": "code",
   "execution_count": 5,
   "id": "d4d6eb7a-180d-472f-bfcb-f87843649f35",
   "metadata": {},
   "outputs": [
    {
     "name": "stdin",
     "output_type": "stream",
     "text": [
      "Enter the number : 2\n",
      "enter the element {i} 45\n",
      "enter the element {i} 63\n"
     ]
    },
    {
     "name": "stdout",
     "output_type": "stream",
     "text": [
      "{'sum': 108, 'cumulative_sum': [45, 108], 'average': 54.0, 'min': 45, 'max': 63}\n"
     ]
    }
   ],
   "source": [
    "# final code \n",
    "\n",
    "def display(list1)->None:\n",
    "    total=0\n",
    "    list2=[]\n",
    "    for i in list1:\n",
    "        total=total+i\n",
    "        list2.append(total)\n",
    "        \n",
    "    length=len(list1)\n",
    "    result = {\n",
    "        'sum': total,\n",
    "        'cumulative_sum': list2,\n",
    "        'average': total / length if length > 0 else 0,\n",
    "        'min': min(list1),\n",
    "        'max': max(list1)\n",
    "    }\n",
    "    return result\n",
    "\n",
    "# asking user to enter the number which he want to fix\n",
    "n=int(input(\"Enter the number :\"))\n",
    "list1=[]\n",
    "for i in range(0,n):\n",
    "    user=int(input(\"enter the element {i}\"))\n",
    "    list1.append(user)\n",
    "    \n",
    "val=display(list1)\n",
    "print(val)"
   ]
  },
  {
   "cell_type": "code",
   "execution_count": null,
   "id": "64a0a6e5-c3de-47fe-818b-4b6223eabf46",
   "metadata": {},
   "outputs": [],
   "source": []
  },
  {
   "cell_type": "markdown",
   "id": "84534757-c299-44bc-b742-96b52d1cfa2d",
   "metadata": {},
   "source": [
    "*Task 3 : to make input from the user as function*"
   ]
  },
  {
   "cell_type": "code",
   "execution_count": 8,
   "id": "ac514f19-a441-4ed7-b9d5-7b96f3328c68",
   "metadata": {},
   "outputs": [],
   "source": [
    "# final code \n",
    "\n",
    "def display(list1)->None:\n",
    "    total=0\n",
    "    list2=[]\n",
    "    for i in list1:\n",
    "        total=total+i\n",
    "        list2.append(total)\n",
    "        \n",
    "    length=len(list1)\n",
    "    result = {\n",
    "        'sum': total,\n",
    "        'cumulative_sum': list2,\n",
    "        'average': total / length if length > 0 else 0,\n",
    "        'min': min(list1),\n",
    "        'max': max(list1)\n",
    "    }\n",
    "    return result\n",
    "\n",
    "\n",
    "    \n",
    "# val=display(list1)\n",
    "# print(val)"
   ]
  },
  {
   "cell_type": "code",
   "execution_count": 10,
   "id": "c5531abd-388d-47d4-96a2-f54d59aee7f8",
   "metadata": {},
   "outputs": [
    {
     "name": "stdin",
     "output_type": "stream",
     "text": [
      "Enter the number : 4\n",
      "enter the element {i} 1\n",
      "enter the element {i} 2\n",
      "enter the element {i} 3\n",
      "enter the element {i} 4\n"
     ]
    },
    {
     "name": "stdout",
     "output_type": "stream",
     "text": [
      "{'sum': 10, 'cumulative_sum': [1, 3, 6, 10], 'average': 2.5, 'min': 1, 'max': 4}\n"
     ]
    }
   ],
   "source": [
    "def input_from_user_element():\n",
    "    n=int(input(\"Enter the number :\"))\n",
    "    list1=[]\n",
    "    for i in range(0,n):\n",
    "        user=int(input(\"enter the element {i}\"))\n",
    "        list1.append(user)\n",
    "    val=display(list1)\n",
    "    print(val)\n",
    "    \n",
    "input_from_user_element()"
   ]
  },
  {
   "cell_type": "code",
   "execution_count": 12,
   "id": "78b0e2d5-a468-425a-bfdc-3547116d30bb",
   "metadata": {},
   "outputs": [
    {
     "name": "stdin",
     "output_type": "stream",
     "text": [
      "Enter the number : 2\n",
      "enter the element {i} 11\n",
      "enter the element {i} 12\n"
     ]
    },
    {
     "name": "stdout",
     "output_type": "stream",
     "text": [
      "{'sum': 23, 'cumulative_sum': [11, 23], 'average': 11.5, 'min': 11, 'max': 12}\n"
     ]
    }
   ],
   "source": [
    "# final code \n",
    "\n",
    "def display(list1)->None:\n",
    "    total=0\n",
    "    list2=[]\n",
    "    for i in list1:\n",
    "        total=total+i\n",
    "        list2.append(total)\n",
    "        \n",
    "    length=len(list1)\n",
    "    result = {\n",
    "        'sum': total,\n",
    "        'cumulative_sum': list2,\n",
    "        'average': total / length if length > 0 else 0,\n",
    "        'min': min(list1),\n",
    "        'max': max(list1)\n",
    "    }\n",
    "    return result\n",
    "\n",
    "\n",
    "def input_from_user_element():\n",
    "    n=int(input(\"Enter the number :\"))\n",
    "    list1=[]\n",
    "    for i in range(0,n):\n",
    "        user=int(input(\"enter the element {i}\"))\n",
    "        list1.append(user)\n",
    "    val=display(list1)\n",
    "    print(val)\n",
    "    \n",
    "input_from_user_element()"
   ]
  }
 ],
 "metadata": {
  "kernelspec": {
   "display_name": "Python 3 (ipykernel)",
   "language": "python",
   "name": "python3"
  },
  "language_info": {
   "codemirror_mode": {
    "name": "ipython",
    "version": 3
   },
   "file_extension": ".py",
   "mimetype": "text/x-python",
   "name": "python",
   "nbconvert_exporter": "python",
   "pygments_lexer": "ipython3",
   "version": "3.12.4"
  }
 },
 "nbformat": 4,
 "nbformat_minor": 5
}
