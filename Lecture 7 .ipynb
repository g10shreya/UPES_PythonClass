{
 "cells": [
  {
   "cell_type": "markdown",
   "id": "8a9462d6-c2d8-432d-a6d7-b6f8346e54e5",
   "metadata": {},
   "source": [
    "**Behavior of mutable and immutable arguments**"
   ]
  },
  {
   "cell_type": "markdown",
   "id": "27f3702a-1d6e-4c6f-904f-c1af47c3c9eb",
   "metadata": {},
   "source": [
    "def modify_immutable(x):\n",
    "    \n",
    "    x += 1\n",
    "    print(f\"Inside function: {x}\")\n",
    "      \n",
    "a = 5\n",
    "modify_immutable(a)\n",
    "print(f\"Outside function: {a}\")  # Output: 5 unchanged rahega!!!"
   ]
  },
  {
   "cell_type": "markdown",
   "id": "174e04d5-8a91-4b36-9601-37fca6e74e1b",
   "metadata": {},
   "source": [
    "**Function Scope**"
   ]
  },
  {
   "cell_type": "code",
   "execution_count": null,
   "id": "2237195c-95da-4d2a-8dde-a0dee9a64de7",
   "metadata": {},
   "outputs": [],
   "source": [
    "x = 10  # Global variable can be access anywhere \n",
    "def outer_function():\n",
    "    print(f\"Value of X in outer function {x}\") \n",
    "    x = 20  # Enclosing variable\n",
    "    #print(f\"Value of X in enclosed function {x}\")\n",
    "    def inner_function():\n",
    "        x = 30  # Local variable\n",
    "        print(f\"Value of X in enclosed function {x}\")  # Output: 30\n",
    "    inner_function()\n",
    "    print(x)  # Output: 20\n",
    "\n",
    "print(x) \n",
    "outer_function()\n",
    "print(x)  # 10 aayega output (global variable)"
   ]
  },
  {
   "cell_type": "markdown",
   "id": "beeb2588-1a47-4ffc-b237-2cd43a39a67b",
   "metadata": {},
   "source": [
    "**ID_Changing**"
   ]
  },
  {
   "cell_type": "code",
   "execution_count": 8,
   "id": "816d1457-3b2f-4942-b2b1-aeb9e9d685af",
   "metadata": {},
   "outputs": [
    {
     "name": "stdout",
     "output_type": "stream",
     "text": [
      "Before:140710311246392\n",
      "After:140710311246424\n"
     ]
    }
   ],
   "source": [
    "# exploring ID in both local and global variable\n",
    "\n",
    "def modify(x):\n",
    "    print(f\"Before:{id(x)}\")\n",
    "    x=x+1\n",
    "    print(f\"After:{id(x)}\")\n",
    "\n",
    "a=5\n",
    "modify(a)"
   ]
  },
  {
   "cell_type": "markdown",
   "id": "ba2f9d14-8936-4be3-a1c7-c092923da5cf",
   "metadata": {},
   "source": [
    "**Modify GLobal Variable**"
   ]
  },
  {
   "cell_type": "code",
   "execution_count": 11,
   "id": "703bb0f7-eee9-40f6-a53e-83d3548fb00e",
   "metadata": {},
   "outputs": [
    {
     "name": "stdout",
     "output_type": "stream",
     "text": [
      "1\n"
     ]
    }
   ],
   "source": [
    "# modifying global variable\n",
    "\n",
    "counter=0\n",
    "def increment():\n",
    "    global counter\n",
    "    counter=counter+1\n",
    "\n",
    "increment()\n",
    "print(counter)"
   ]
  },
  {
   "cell_type": "markdown",
   "id": "726afcf1-df56-4baf-8c11-01e95ad01452",
   "metadata": {},
   "source": [
    "**Mutuable Datatypes**"
   ]
  },
  {
   "cell_type": "code",
   "execution_count": 14,
   "id": "db4ff61c-dc47-4cca-bd5b-dd211a50946f",
   "metadata": {},
   "outputs": [
    {
     "name": "stdout",
     "output_type": "stream",
     "text": [
      "Inside function: [1, 2, 3, 4]\n",
      "Outside function: [1, 2, 3, 4]\n"
     ]
    }
   ],
   "source": [
    "# mutable object modification in function\n",
    "def modify_mutable(lst):\n",
    "    lst.append(4)\n",
    "    print(f\"Inside function: {lst}\")\n",
    "\n",
    "\n",
    "my_list = [1, 2, 3]\n",
    "modify_mutable(my_list)\n",
    "print(f\"Outside function: {my_list}\")  # Output: [1, 2, 3, 4] (modified)"
   ]
  }
 ],
 "metadata": {
  "kernelspec": {
   "display_name": "Python 3 (ipykernel)",
   "language": "python",
   "name": "python3"
  },
  "language_info": {
   "codemirror_mode": {
    "name": "ipython",
    "version": 3
   },
   "file_extension": ".py",
   "mimetype": "text/x-python",
   "name": "python",
   "nbconvert_exporter": "python",
   "pygments_lexer": "ipython3",
   "version": "3.12.4"
  }
 },
 "nbformat": 4,
 "nbformat_minor": 5
}
