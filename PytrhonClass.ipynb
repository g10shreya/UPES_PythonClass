{
 "cells": [
  {
   "cell_type": "markdown",
   "id": "6f493261-e81d-4e56-bfcb-05b2f404b231",
   "metadata": {},
   "source": [
    "***Write a function that takes one variable as input and return the sum , cumulative sum, average , min and max value \n",
    "Implement using for loop. Define function documentation using doc string and show its uses***"
   ]
  },
  {
   "cell_type": "code",
   "execution_count": 30,
   "id": "13c74b5e-fc6b-4bd3-9c8b-7444ce17cf5a",
   "metadata": {},
   "outputs": [
    {
     "name": "stdin",
     "output_type": "stream",
     "text": [
      "Enter the number of elements you want to insert:  4\n",
      "Enter the number:  1\n",
      "Enter the number:  2\n",
      "Enter the number:  3\n",
      "Enter the number:  4\n"
     ]
    },
    {
     "name": "stdout",
     "output_type": "stream",
     "text": [
      "Sum: 10\n",
      "Cumulative Sum: [1, 3, 6, 10]\n",
      "Average: 2.5\n",
      "Min: 1\n",
      "Max: 4\n"
     ]
    }
   ],
   "source": [
    "def calculate_statistics(numbers):\n",
    "    total_sum = 0\n",
    "    cumulative_sum = []\n",
    "    min_value = float('inf')\n",
    "    max_value = float('-inf')\n",
    "    \n",
    "    for number in numbers:\n",
    "        total_sum += number\n",
    "        cumulative_sum.append(total_sum)\n",
    "        if number < min_value:\n",
    "            min_value = number\n",
    "        if number > max_value:\n",
    "            max_value = number\n",
    "    \n",
    "    average = total_sum / len(numbers) if numbers else 0\n",
    "\n",
    "    return {\n",
    "        'sum': total_sum,\n",
    "        'cumulative_sum': cumulative_sum,\n",
    "        'average': average,\n",
    "        'min': min_value,\n",
    "        'max': max_value\n",
    "    }\n",
    "\n",
    "numbers = []\n",
    "n=int(input(\"Enter the number of elements you want to insert: \"))\n",
    "def inputter(nums):\n",
    "    for i in range(n):\n",
    "        x = int(input(\"Enter the number: \"))\n",
    "        numbers.append(x)\n",
    "\n",
    "\n",
    "inputter(n)\n",
    "statistics = calculate_statistics(numbers)\n",
    "print(\"Sum:\", statistics['sum'])\n",
    "print(\"Cumulative Sum:\", statistics['cumulative_sum'])\n",
    "print(\"Average:\", statistics['average'])\n",
    "print(\"Min:\", statistics['min'])\n",
    "print(\"Max:\", statistics['max'])\n"
   ]
  },
  {
   "cell_type": "markdown",
   "id": "31215b89-87c5-43e3-bdb9-9d84dc0e373f",
   "metadata": {},
   "source": [
    "**Lambda, Map, Filters List Comprehension**"
   ]
  },
  {
   "cell_type": "markdown",
   "id": "42467167-a749-432b-b32d-ac5bd3d7a5f7",
   "metadata": {},
   "source": [
    "**Date - 10/9/2024**"
   ]
  },
  {
   "cell_type": "markdown",
   "id": "b4262a3d-70fa-43c8-a15e-e025bafd4348",
   "metadata": {},
   "source": [
    "*Function to add two variables*"
   ]
  },
  {
   "cell_type": "code",
   "execution_count": 7,
   "id": "fe625691-dede-4ae8-b951-9d2ab6bcdda2",
   "metadata": {},
   "outputs": [
    {
     "data": {
      "text/plain": [
       "30"
      ]
     },
     "execution_count": 7,
     "metadata": {},
     "output_type": "execute_result"
    }
   ],
   "source": [
    "def myadd1(a,b):\n",
    "    res = a+b\n",
    "    return res\n",
    "\n",
    "\n",
    "a=10\n",
    "b=20\n",
    "res = myadd1(a,b)\n",
    "res"
   ]
  },
  {
   "cell_type": "markdown",
   "id": "0d585223-6e08-49ae-91c8-fcd9d1e1d01f",
   "metadata": {},
   "source": [
    "*Write a program to multiply two variables using lemda functions*"
   ]
  },
  {
   "cell_type": "code",
   "execution_count": 17,
   "id": "8bd96593-9667-4eb1-a427-1633501cb67c",
   "metadata": {},
   "outputs": [
    {
     "name": "stdout",
     "output_type": "stream",
     "text": [
      "<function <lambda> at 0x000001C2F962C9A0>\n"
     ]
    },
    {
     "data": {
      "text/plain": [
       "2"
      ]
     },
     "execution_count": 17,
     "metadata": {},
     "output_type": "execute_result"
    }
   ],
   "source": [
    "a = 1\n",
    "b = 2\n",
    "# normal function with def\n",
    "# def mul(a,b):\n",
    "# return a*b\n",
    "\n",
    "#anonymous function using lamda\n",
    "mul = lambda a,b: a*b\n",
    "\n",
    "print(mul)\n",
    "\n",
    "mul(a,b)"
   ]
  },
  {
   "cell_type": "markdown",
   "id": "0fbee62c-a320-4619-9293-c23e46787160",
   "metadata": {},
   "source": [
    "*Write a program to square each number in a list without using map and lemda*"
   ]
  },
  {
   "cell_type": "code",
   "execution_count": 42,
   "id": "83edf74b-781b-46c0-be19-5d12c557ff1b",
   "metadata": {},
   "outputs": [
    {
     "name": "stdout",
     "output_type": "stream",
     "text": [
      "[1, 4, 9, 16, 25]\n"
     ]
    }
   ],
   "source": [
    "# Using map to square each number in a list\n",
    "\n",
    "numbers = [1, 2, 3, 4, 5]\n",
    "squared = map(lambda x: x * x, numbers)\n",
    "print(list(squared))  # Output: [1, 4, 9, 16, 25]Using filter to get only even numbers from a list\n",
    "\n",
    "\n"
   ]
  },
  {
   "cell_type": "code",
   "execution_count": 45,
   "id": "0e548d05-fba1-4053-9027-cfe783f70ea9",
   "metadata": {},
   "outputs": [
    {
     "name": "stdout",
     "output_type": "stream",
     "text": [
      "[2, 4]\n"
     ]
    }
   ],
   "source": [
    "even_numbers = filter(lambda x: x % 2 == 0, numbers)\n",
    "print(list(even_numbers))  # Output: [2, 4]\n"
   ]
  },
  {
   "cell_type": "markdown",
   "id": "0a975938-cd3b-44f0-9b52-05321fc24916",
   "metadata": {},
   "source": [
    "*WAP to create a list of square of even number from 0 to 9*"
   ]
  },
  {
   "cell_type": "code",
   "execution_count": 51,
   "id": "fa057f7e-b80b-4583-bef8-9ba0a8ce9bca",
   "metadata": {},
   "outputs": [
    {
     "name": "stdout",
     "output_type": "stream",
     "text": [
      "[0, 4, 16, 36, 64]\n"
     ]
    }
   ],
   "source": [
    "# Create a list of squares of even numbers from 0 to 9\n",
    "squares = [i**2 for i in range(10) if i % 2 == 0]\n",
    "\n",
    "print(squares)\n"
   ]
  },
  {
   "cell_type": "markdown",
   "id": "811aaf8d-a80a-4c3b-a804-9491e6a08a24",
   "metadata": {},
   "source": [
    "*WAP that takes a list containing sap id and generate a list of email address*"
   ]
  },
  {
   "cell_type": "code",
   "execution_count": 19,
   "id": "7aa75b20-c8c3-4342-a6cd-48a8b1f830c8",
   "metadata": {},
   "outputs": [
    {
     "name": "stdin",
     "output_type": "stream",
     "text": [
      "Enter number of students:  1\n",
      "Enter first name of student 1:  Kumkum\n",
      "Enter last name of student 1:  Malhotra\n",
      "Enter SAP ID of student 1:  590016176\n"
     ]
    },
    {
     "name": "stdout",
     "output_type": "stream",
     "text": [
      "\n",
      "Generated Email Addresses:\n",
      "kumkum.malhotra6176@stu.edu.upes.in\n"
     ]
    }
   ],
   "source": [
    "def generate_emails(student_data):\n",
    "    emails = []\n",
    "    for student in student_data:\n",
    "        first_name = student['first_name'].lower()\n",
    "        last_name = student['last_name'].lower()\n",
    "        sap_id = str(student['sap_id'])  # Ensure SAP ID is a string\n",
    "        last_four_digits = sap_id[-4:]\n",
    "        \n",
    "        email = f\"{first_name}.{last_name}{last_four_digits}@stu.edu.upes.in\"\n",
    "        emails.append(email)\n",
    "    \n",
    "    return emails\n",
    "\n",
    "# Input: List of dictionaries with first name, last name, and SAP ID\n",
    "student_data = []\n",
    "n = int(input(\"Enter number of students: \"))\n",
    "\n",
    "for i in range(n):\n",
    "    first_name = input(f\"Enter first name of student {i+1}: \")\n",
    "    last_name = input(f\"Enter last name of student {i+1}: \")\n",
    "    sap_id = input(f\"Enter SAP ID of student {i+1}: \")  # Keep as string\n",
    "    \n",
    "    student_data.append({\n",
    "        'first_name': first_name,\n",
    "        'last_name': last_name,\n",
    "        'sap_id': sap_id  # No need to convert to int\n",
    "    })\n",
    "\n",
    "# Generate email addresses\n",
    "emails = generate_emails(student_data)\n",
    "\n",
    "# Output: Display the generated email addresses\n",
    "print(\"\\nGenerated Email Addresses:\")\n",
    "for email in emails:\n",
    "    print(email)\n"
   ]
  },
  {
   "cell_type": "markdown",
   "id": "9793cba7-fd2e-4a4b-8d4a-2da922df1520",
   "metadata": {},
   "source": [
    "**WAP that takes email addresses from user and message from user and using smtp library send that message to all the email address ( make it modular to reuse )**"
   ]
  },
  {
   "cell_type": "code",
   "execution_count": 76,
   "id": "b1483dad-bb93-4383-9dca-6dc376b2eee9",
   "metadata": {},
   "outputs": [
    {
     "name": "stdin",
     "output_type": "stream",
     "text": [
      "Enter your email address:  fsd\n",
      "Enter your email password:  dfsd\n"
     ]
    },
    {
     "name": "stdout",
     "output_type": "stream",
     "text": [
      "Enter email addresses (type 'done' when finished):\n"
     ]
    },
    {
     "name": "stdin",
     "output_type": "stream",
     "text": [
      "Email:  dff\n",
      "Email:  fd\n",
      "Email:  f\n",
      "Email:  ds\n",
      "Email:  dsf\n",
      "Email:  fd\n",
      "Email:  fdf\n",
      "Email:  dfdsfd\n",
      "Email:  fdsf\n",
      "Email:  fds\n",
      "Email:  f\n",
      "Email:  done\n",
      "Enter the subject of the email:  dsaf\n"
     ]
    },
    {
     "name": "stdout",
     "output_type": "stream",
     "text": [
      "Enter the message body (end with an empty line):\n"
     ]
    },
    {
     "name": "stdin",
     "output_type": "stream",
     "text": [
      " dsf\n",
      " \n"
     ]
    },
    {
     "name": "stdout",
     "output_type": "stream",
     "text": [
      "Error: (535, b'5.7.8 Username and Password not accepted. For more information, go to\\n5.7.8  https://support.google.com/mail/?p=BadCredentials d9443c01a7336-20710ee70bbsm40211945ad.151 - gsmtp')\n"
     ]
    }
   ],
   "source": [
    "import smtplib\n",
    "from email.mime.text import MIMEText\n",
    "from email.mime.multipart import MIMEMultipart\n",
    "\n",
    "# Function to send email\n",
    "def send_email(sender_email, sender_password, recipient_list, subject, message_body):\n",
    "    try:\n",
    "        # Setup the email server\n",
    "        smtp_server = \"smtp.gmail.com\"\n",
    "        smtp_port = 587  # Port for TLS\n",
    "\n",
    "        # Create SMTP session\n",
    "        server = smtplib.SMTP(smtp_server, smtp_port)\n",
    "        server.starttls()  # Secure the connection with TLS\n",
    "\n",
    "        # Login to the email account\n",
    "        server.login(sender_email, sender_password)\n",
    "\n",
    "        # Loop through each recipient and send email\n",
    "        for recipient in recipient_list:\n",
    "            # Create the email content\n",
    "            msg = MIMEMultipart()\n",
    "            msg['From'] = sender_email\n",
    "            msg['To'] = recipient\n",
    "            msg['Subject'] = subject\n",
    "\n",
    "            # Attach the message body\n",
    "            msg.attach(MIMEText(message_body, 'plain'))\n",
    "\n",
    "            # Send the email\n",
    "            server.sendmail(sender_email, recipient, msg.as_string())\n",
    "            print(f\"Email sent successfully to {recipient}\")\n",
    "\n",
    "        # Close the SMTP server connection\n",
    "        server.quit()\n",
    "\n",
    "    except Exception as e:\n",
    "        print(f\"Error: {e}\")\n",
    "\n",
    "# Function to get email addresses from the user\n",
    "def get_email_addresses():\n",
    "    emails = []\n",
    "    print(\"Enter email addresses (type 'done' when finished):\")\n",
    "    while True:\n",
    "        email = input(\"Email: \").strip()\n",
    "        if email.lower() == 'done':\n",
    "            break\n",
    "        if email:\n",
    "            emails.append(email)\n",
    "    return emails\n",
    "\n",
    "# Function to get the message from the user\n",
    "def get_message():\n",
    "    subject = input(\"Enter the subject of the email: \").strip()\n",
    "    print(\"Enter the message body (end with an empty line):\")\n",
    "    message_lines = []\n",
    "    while True:\n",
    "        line = input()\n",
    "        if not line:  # End input on an empty line\n",
    "            break\n",
    "        message_lines.append(line)\n",
    "    message_body = \"\\n\".join(message_lines)\n",
    "    return subject, message_body\n",
    "\n",
    "# Main function to run the email sending process\n",
    "def main():\n",
    "    sender_email = input(\"Enter your email address: \").strip()\n",
    "    sender_password = input(\"Enter your email password: \").strip()\n",
    "\n",
    "    recipient_list = get_email_addresses()  # Get the list of recipients\n",
    "    subject, message_body = get_message()   # Get the message\n",
    "\n",
    "    # Send email to all recipients\n",
    "    send_email(sender_email, sender_password, recipient_list, subject, message_body)\n",
    "\n",
    "if __name__ == \"__main__\":\n",
    "    main()\n"
   ]
  },
  {
   "cell_type": "markdown",
   "id": "e3bfa6e1-9d78-4bc7-afce-0866f9321b0c",
   "metadata": {},
   "source": [
    "**WAP to print current time then pause for few seconds and again prints current time**"
   ]
  },
  {
   "cell_type": "code",
   "execution_count": 85,
   "id": "616b34ee-9c8a-488e-8371-e59058fa3980",
   "metadata": {},
   "outputs": [
    {
     "name": "stdout",
     "output_type": "stream",
     "text": [
      "Tue Sep 10 09:25:17 2024\n",
      "\n",
      "\n",
      "Tue Sep 10 09:25:19 2024\n",
      "\n",
      "\n"
     ]
    }
   ],
   "source": [
    "import time\n",
    "def showTime():\n",
    "    print(time.ctime())\n",
    "    print(\"\\n\")\n",
    "    time.sleep(2)\n",
    "\n",
    "showTime()\n",
    "\n",
    "showTime()"
   ]
  },
  {
   "cell_type": "markdown",
   "id": "68c336a0-9ce4-4ff1-bca1-2ac318b02c05",
   "metadata": {},
   "source": [
    "**DATE -11/09/2024**\n",
    "\n",
    "*Wap that takes directory address from users and organise files into corresponding folders using OS models*"
   ]
  },
  {
   "cell_type": "code",
   "execution_count": 8,
   "id": "6980719c-d3f5-4d7d-bb1b-bb0723e02738",
   "metadata": {},
   "outputs": [
    {
     "data": {
      "text/plain": [
       "['.git',\n",
       " '.ipynb_checkpoints',\n",
       " 'Assignment-1',\n",
       " 'Hello Python.py',\n",
       " 'hello.py',\n",
       " 'pythonassignment2.ipynb',\n",
       " 'PytrhonClass7sep.ipynb',\n",
       " 'Question2.png',\n",
       " 'README.md',\n",
       " 'Untitled9.ipynb']"
      ]
     },
     "execution_count": 8,
     "metadata": {},
     "output_type": "execute_result"
    }
   ],
   "source": [
    "import os\n",
    "address = r\"C:\\Users\\hp\\Desktop\\UPES\\B1B2\"\n",
    "\n",
    "list_of_files = os.listdir(address)\n",
    "list_of_files"
   ]
  },
  {
   "cell_type": "code",
   "execution_count": 39,
   "id": "da40d617-8ac9-496c-94ea-f9ce64b34159",
   "metadata": {},
   "outputs": [],
   "source": [
    "#WAP to list all the files in a dir, the dir address is taken from user\n",
    "\n",
    "import os\n",
    "\n",
    "#address = input(\"Enter Directory Address\\n\")\n",
    "address = r\"C:\\Users\\hp\\Desktop\\UPES\\Trial\"\n",
    "\n",
    "os.chdir(address)\n",
    "\n",
    "cmd = \"pwd\"\n",
    "\n",
    "\n"
   ]
  },
  {
   "cell_type": "code",
   "execution_count": 45,
   "id": "7d3098e6-a048-4b0d-a303-e04b77834783",
   "metadata": {},
   "outputs": [],
   "source": [
    "def create_dir_structure():\n",
    "    folders = \"Images,Videos,Documents\".split(\",\")\n",
    "\n",
    "for f in folders:\n",
    "    cmd = f\"mkdir {f}\"\n",
    "    os.system(cmd)\n",
    "\n",
    "create_dir_structure()"
   ]
  },
  {
   "cell_type": "code",
   "execution_count": 15,
   "id": "32be9438-3f9b-4c70-9832-f705218af66d",
   "metadata": {},
   "outputs": [
    {
     "data": {
      "text/plain": [
       "['123.234324@stu.upes.ac.in', '345345@stu.upes.ac.in', '4545@stu.upes.ac.in']"
      ]
     },
     "execution_count": 15,
     "metadata": {},
     "output_type": "execute_result"
    }
   ],
   "source": [
    "sapids = [123.234324,345345,4545]\n",
    "def id2email(id):\n",
    "    return f\"{id}@stu.upes.ac.in\"\n",
    "\n",
    "emails = []\n",
    "for id in sapids:\n",
    "    email = id2email(id)\n",
    "    emails.append(email)\n",
    "\n",
    "list_of_emails = emails\n",
    "list_of_emails"
   ]
  },
  {
   "cell_type": "markdown",
   "id": "70485082-55a7-477f-b76e-0425ba31704f",
   "metadata": {},
   "source": [
    "**Try and Except Function**"
   ]
  },
  {
   "cell_type": "code",
   "execution_count": 21,
   "id": "eb11eaa4-ceda-4096-877e-9dd1bdcde041",
   "metadata": {},
   "outputs": [
    {
     "name": "stdout",
     "output_type": "stream",
     "text": [
      "Values of 10\n"
     ]
    }
   ],
   "source": [
    "a=10\n",
    "try:\n",
    "    print(f\"Values of {a}\")\n",
    "except:\n",
    "    print(f\"values of a does not exist\")"
   ]
  },
  {
   "cell_type": "markdown",
   "id": "dfdf27b7-0d52-47d0-91ad-26f2c4b94f27",
   "metadata": {},
   "source": [
    "**Assert**"
   ]
  },
  {
   "cell_type": "code",
   "execution_count": 24,
   "id": "f02576ca-138d-4714-b7ce-7843017a1255",
   "metadata": {},
   "outputs": [
    {
     "name": "stdout",
     "output_type": "stream",
     "text": [
      "Assert is True\n"
     ]
    }
   ],
   "source": [
    "a=10\n",
    "b=20\n",
    "\n",
    "assert a<b\n",
    "print(\"Assert is True\")"
   ]
  },
  {
   "cell_type": "code",
   "execution_count": 29,
   "id": "64920ab6-14b9-4a85-88de-35f233a82ad9",
   "metadata": {},
   "outputs": [
    {
     "name": "stdout",
     "output_type": "stream",
     "text": [
      "Assert is False\n"
     ]
    }
   ],
   "source": [
    "a=10\n",
    "b=20\n",
    "\n",
    "try:\n",
    "    \n",
    "    assert a>b\n",
    "    print(\"Assert is True\")\n",
    "\n",
    "except:\n",
    "    assert a<b\n",
    "    print(\"Assert is False\")"
   ]
  },
  {
   "cell_type": "markdown",
   "id": "1c6ecbad-5613-42b5-b2a8-9754f4db0dd0",
   "metadata": {},
   "source": [
    "**Write a program that takes two values from user and returns division of first from second**"
   ]
  },
  {
   "cell_type": "code",
   "execution_count": 33,
   "id": "5108bf10-48a5-4586-8d96-7a10090993e1",
   "metadata": {},
   "outputs": [
    {
     "name": "stdin",
     "output_type": "stream",
     "text": [
      "enter your number 2\n",
      "enter your number 2\n"
     ]
    },
    {
     "name": "stdout",
     "output_type": "stream",
     "text": [
      "division of 2/2 is 1.0\n"
     ]
    }
   ],
   "source": [
    "a= int(input(\"enter your number\"))\n",
    "b= int(input(\"enter your number\"))\n",
    "\n",
    "def div (a,b):\n",
    "    return a/b\n",
    "\n",
    "print(f\"division of {a}/{b} is {div(a,b)}\")\n"
   ]
  },
  {
   "cell_type": "markdown",
   "id": "80f01e49-de61-46b4-9f75-9e5eb7ba9798",
   "metadata": {},
   "source": [
    "**WAP that reads a csv files and stores the data as 2Dimensional list**"
   ]
  },
  {
   "cell_type": "code",
   "execution_count": 41,
   "id": "94632dda-cc29-4ebe-a1eb-bf406fb9377d",
   "metadata": {},
   "outputs": [
    {
     "name": "stdout",
     "output_type": "stream",
     "text": [
      "1,2\n",
      "2,2\n",
      "3,2\n",
      "4,2\n",
      "5,2\n",
      "6,2\n",
      "7,2\n",
      "8,2\n",
      "9,2\n",
      "10,2\n",
      "11,2\n",
      "12,2\n",
      "13,2\n",
      "14,2\n",
      "15,2\n",
      "16,2\n",
      "17,\n",
      "18,\n",
      "19,\n",
      "20,\n",
      "21,\n",
      "22,\n",
      "23,\n",
      "24,\n",
      "25,\n",
      "26,\n",
      "27,\n",
      "28,\n",
      "29,\n",
      "30,\n",
      "\n"
     ]
    }
   ],
   "source": [
    "# program to read csv file and return a list of list\n",
    "\n",
    "fileName = \"def.csv\"\n",
    "\n",
    "# function to read csv file and return a list\n",
    "def read_csv(file_name):\n",
    " fileHandle = open(file_name,\"r\")\n",
    " data = fileHandle.read()\n",
    " fileHandle.close()\n",
    "\n",
    " # your logic\n",
    " op = data\n",
    " return op # it should return a list of list\n",
    "\n",
    "recievedData = read_csv(fileName)\n",
    "\n",
    "print(recievedData)                                                                                                                                                                                                                                                                                                                                                                                                                                                                                                                                                                                                                                                                                                                                                                                                                                                                                                                                                                                                                                                                                                                                                                                                                                                                                                                                        "
   ]
  },
  {
   "cell_type": "code",
   "execution_count": null,
   "id": "03a74a02-3bf9-4acb-aa8b-340280f5c783",
   "metadata": {},
   "outputs": [],
   "source": []
  },
  {
   "cell_type": "code",
   "execution_count": null,
   "id": "afe1bd7e-b704-477f-b7d3-34ed7a97f4ce",
   "metadata": {},
   "outputs": [],
   "source": []
  }
 ],
 "metadata": {
  "kernelspec": {
   "display_name": "Python 3 (ipykernel)",
   "language": "python",
   "name": "python3"
  },
  "language_info": {
   "codemirror_mode": {
    "name": "ipython",
    "version": 3
   },
   "file_extension": ".py",
   "mimetype": "text/x-python",
   "name": "python",
   "nbconvert_exporter": "python",
   "pygments_lexer": "ipython3",
   "version": "3.12.4"
  }
 },
 "nbformat": 4,
 "nbformat_minor": 5
}
