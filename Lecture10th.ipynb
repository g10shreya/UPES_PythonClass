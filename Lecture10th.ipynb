{
 "cells": [
  {
   "cell_type": "markdown",
   "id": "29ea0cba-bab2-4cef-a2cc-fd7732bada6c",
   "metadata": {},
   "source": [
    "*Class 13-09-2024*\n",
    "**Revision Code for Previous class and Exception Handling**"
   ]
  },
  {
   "cell_type": "code",
   "execution_count": 2,
   "id": "6cd76a60-d1fe-4279-a722-f345f3e9cc41",
   "metadata": {},
   "outputs": [
    {
     "data": {
      "text/plain": [
       "['124@stu.upes.ac.in',\n",
       " '5324@stu.upes.ac.in',\n",
       " '634@stu.upes.ac.in',\n",
       " '644654@stu.upes.ac.in']"
      ]
     },
     "execution_count": 2,
     "metadata": {},
     "output_type": "execute_result"
    }
   ],
   "source": [
    "sapid=[124,5324,634,644654]\n",
    "def id2email(id):\n",
    "    # return str(id) +\"@stu.upes.ac.in\"\n",
    "    return str(id)+\"@stu.upes.ac.in\"\n",
    "\n",
    "email=[]\n",
    "\n",
    "for id in sapid:\n",
    "    email1=id2email(id)\n",
    "    email.append(email1)\n",
    "\n",
    "list_of_email=email\n",
    "list_of_email  # list which give email in list format"
   ]
  },
  {
   "cell_type": "code",
   "execution_count": 4,
   "id": "482e9af7-47a2-4c41-a06a-37c9dace6f97",
   "metadata": {},
   "outputs": [
    {
     "data": {
      "text/plain": [
       "['124@stu.upes.ac.in',\n",
       " '5324@stu.upes.ac.in',\n",
       " '634@stu.upes.ac.in',\n",
       " '644654@stu.upes.ac.in']"
      ]
     },
     "execution_count": 4,
     "metadata": {},
     "output_type": "execute_result"
    }
   ],
   "source": [
    "# using map function\n",
    "sapid=[124,5324,634,644654]\n",
    "def id2email(id):\n",
    "    # return str(id) +\"@stu.upes.ac.in\"\n",
    "    return str(id)+\"@stu.upes.ac.in\"\n",
    "\n",
    "\n",
    "list_of_email=list(map(id2email,sapid))\n",
    "list_of_email"
   ]
  },
  {
   "cell_type": "code",
   "execution_count": 6,
   "id": "0f732ea2-1151-4a8e-a945-738b14f74796",
   "metadata": {},
   "outputs": [
    {
     "data": {
      "text/plain": [
       "['124@stu.upes.ac.in',\n",
       " '5324@stu.upes.ac.in',\n",
       " '634@stu.upes.ac.in',\n",
       " '644654@stu.upes.ac.in']"
      ]
     },
     "execution_count": 6,
     "metadata": {},
     "output_type": "execute_result"
    }
   ],
   "source": [
    "# using map and lambda function\n",
    "\n",
    "\n",
    "sapid=[124,5324,634,644654]\n",
    "\n",
    "list_of_email=list(map(lambda id:str(id) +\"@stu.upes.ac.in\",sapid))\n",
    "list_of_email"
   ]
  },
  {
   "cell_type": "code",
   "execution_count": 8,
   "id": "cb25d18e-fbfc-405e-95b6-18bf4a088bbb",
   "metadata": {},
   "outputs": [
    {
     "data": {
      "text/plain": [
       "[': 124 #stu.upes.ac.in',\n",
       " ': 5324 #stu.upes.ac.in',\n",
       " ': 634 #stu.upes.ac.in',\n",
       " ': 644654 #stu.upes.ac.in']"
      ]
     },
     "execution_count": 8,
     "metadata": {},
     "output_type": "execute_result"
    }
   ],
   "source": [
    "# using list comprehension\n",
    "\n",
    "sapid=[124,5324,634,644654]\n",
    "list_of_email=[f\": {id} #stu.upes.ac.in\" for id in sapid]\n",
    "list_of_email"
   ]
  },
  {
   "cell_type": "markdown",
   "id": "c80439f7-a56b-4720-ae22-248ccaab3a7c",
   "metadata": {},
   "source": [
    "**Exceptional Handling**"
   ]
  },
  {
   "cell_type": "code",
   "execution_count": 11,
   "id": "3553a4b4-1e17-4d9f-8ba9-69b159d8fda0",
   "metadata": {},
   "outputs": [
    {
     "name": "stdout",
     "output_type": "stream",
     "text": [
      "Value of a does not exist\n"
     ]
    }
   ],
   "source": [
    "# try catch in python for error handling\n",
    "\n",
    "\n",
    "\n",
    "try:\n",
    "    print(f\"Value of {a}\")\n",
    "    print(f\"Value of {a}\")\n",
    "except:\n",
    "    print(f\"Value of a does not exist\")"
   ]
  },
  {
   "cell_type": "code",
   "execution_count": null,
   "id": "2d3ede12-a064-4bef-a153-0c309dc03c5e",
   "metadata": {},
   "outputs": [],
   "source": [
    "# write a program that take 2 place from user and returns division of first from second"
   ]
  },
  {
   "cell_type": "code",
   "execution_count": 13,
   "id": "4edb17a2-4836-456b-9ece-9f59839899bd",
   "metadata": {},
   "outputs": [
    {
     "name": "stdin",
     "output_type": "stream",
     "text": [
      "Input 1-> 2\n",
      "Input 2-> 3\n"
     ]
    },
    {
     "name": "stdout",
     "output_type": "stream",
     "text": [
      "Division of 2/3 is 0.6666666666666666\n"
     ]
    }
   ],
   "source": [
    "a=int(input(\"Input 1->\"))\n",
    "b=int(input(\"Input 2->\"))\n",
    "\n",
    "def div(a,b):\n",
    "    assert b!=0\n",
    "    return a/b\n",
    "\n",
    "print(f\"Division of {a}/{b} is {div(a,b)}\")"
   ]
  }
 ],
 "metadata": {
  "kernelspec": {
   "display_name": "Python 3 (ipykernel)",
   "language": "python",
   "name": "python3"
  },
  "language_info": {
   "codemirror_mode": {
    "name": "ipython",
    "version": 3
   },
   "file_extension": ".py",
   "mimetype": "text/x-python",
   "name": "python",
   "nbconvert_exporter": "python",
   "pygments_lexer": "ipython3",
   "version": "3.12.4"
  }
 },
 "nbformat": 4,
 "nbformat_minor": 5
}
