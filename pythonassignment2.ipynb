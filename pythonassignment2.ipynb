{
 "cells": [
  {
   "cell_type": "markdown",
   "id": "17e9f4e3-0c92-4c2f-87f0-9ff34b5765c4",
   "metadata": {},
   "source": [
    "***PYTHON ASSIGNMENT 1***"
   ]
  },
  {
   "cell_type": "markdown",
   "id": "7520f29e-5168-4eed-9a3a-e188911746c1",
   "metadata": {},
   "source": [
    "**Part 1** **Introduction To Python**"
   ]
  },
  {
   "cell_type": "markdown",
   "id": "c86d5e5c-36d1-4093-a5de-5a5867a93022",
   "metadata": {},
   "source": [
    "*Question 1*"
   ]
  },
  {
   "cell_type": "code",
   "execution_count": 3,
   "id": "f9d58fe1-b3a7-4e2d-8c39-fe504c0e7ccf",
   "metadata": {},
   "outputs": [
    {
     "name": "stdout",
     "output_type": "stream",
     "text": [
      "Name:Shekhar Kumar Jha\n",
      "Course Name:MCA_B1\n",
      "Python Version:3.12.4 | packaged by Anaconda, Inc. | (main, Jun 18 2024, 15:03:56) [MSC v.1929 64 bit (AMD64)]\n"
     ]
    }
   ],
   "source": [
    "import sys\n",
    "\n",
    "# Define the details\n",
    "name = \"Shekhar Kumar Jha\"\n",
    "coursename = \"MCA_B1\"\n",
    "pythonversion = sys.version\n",
    "\n",
    "# Print the details\n",
    "print(f\"Name:{name}\")\n",
    "print(f\"Course Name:{coursename}\")\n",
    "print(f\"Python Version:{pythonversion}\")"
   ]
  },
  {
   "cell_type": "markdown",
   "id": "ebf9c761-ab94-4250-acbc-433338a18c09",
   "metadata": {},
   "source": [
    "*Question 2*"
   ]
  },
  {
   "cell_type": "code",
   "execution_count": null,
   "id": "4a2862fd-058c-45de-afe8-44a2a135ddd3",
   "metadata": {},
   "outputs": [],
   "source": [
    "*"
   ]
  },
  {
   "cell_type": "markdown",
   "id": "817c63a5-6a9f-499c-8347-7c8f7324eead",
   "metadata": {},
   "source": [
    "![Question.2](Question.2.png)"
   ]
  },
  {
   "cell_type": "code",
   "execution_count": null,
   "id": "a990502e-a918-46e2-b1cb-9cdc2406ab41",
   "metadata": {},
   "outputs": [],
   "source": []
  },
  {
   "cell_type": "code",
   "execution_count": null,
   "id": "52733bde-c03d-4f9e-af7c-42dfb5c10348",
   "metadata": {},
   "outputs": [],
   "source": []
  },
  {
   "cell_type": "markdown",
   "id": "35e6ed48-8c6e-48f2-8745-7af32c92f4df",
   "metadata": {},
   "source": []
  },
  {
   "cell_type": "code",
   "execution_count": null,
   "id": "f47e1a43-5f5b-4db9-bb8d-52d7b15d95d1",
   "metadata": {},
   "outputs": [],
   "source": []
  },
  {
   "cell_type": "markdown",
   "id": "237eae0f-5205-48a0-a804-0f0ab9b7afce",
   "metadata": {},
   "source": [
    "***PART 2*** **Basic Python Syntax**"
   ]
  },
  {
   "cell_type": "markdown",
   "id": "8b8f12a5-1c76-4051-b760-be928f05fbce",
   "metadata": {},
   "source": [
    "*Question 1*"
   ]
  },
  {
   "cell_type": "code",
   "execution_count": 40,
   "id": "aa6e6ce4-d064-4dc3-ab83-f1902dc51011",
   "metadata": {},
   "outputs": [
    {
     "name": "stdin",
     "output_type": "stream",
     "text": [
      "Input your First Name :  Gunnjan\n",
      "Input your Last Name :  Gyamlani\n"
     ]
    },
    {
     "name": "stdout",
     "output_type": "stream",
     "text": [
      "inalmayG najnnuG\n"
     ]
    }
   ],
   "source": [
    "# taking the input from the user for first name and store it in the 'fname' variable\n",
    "first_name = input(\"Input your First Name : \")\n",
    "\n",
    "#  takinh input for last name and store it in the 'lname' variable\n",
    "last_name = input(\"Input your Last Name : \")\n",
    "\n",
    "# Display a message with the last name followed by the first name\n",
    "full_name =first_name + \" \" + last_name\n",
    "print(full_name[ : :-1])"
   ]
  },
  {
   "cell_type": "markdown",
   "id": "b933134c-b0c9-413b-9cce-802de8846b41",
   "metadata": {},
   "source": [
    "*Question 2*"
   ]
  },
  {
   "cell_type": "code",
   "execution_count": 48,
   "id": "6deaadf7-ac3c-42ac-9500-68d3e61776a2",
   "metadata": {},
   "outputs": [
    {
     "name": "stdout",
     "output_type": "stream",
     "text": [
      "Data type of num_string after Type Casting: <class 'int'> 12\n",
      "Data type of num_string after Type Casting: <class 'float'> 12.0\n",
      "Data type of num_string after Type Casting: <class 'complex'> (12+0j)\n"
     ]
    }
   ],
   "source": [
    "num_string = \"12\"\n",
    "\n",
    "num_string1 = int(num_string)\n",
    "num_string2=float(num_string)\n",
    "num_string3=complex(num_string)\n",
    "\n",
    "print(\"Data type of num_string after Type Casting:\",type(num_string1) , num_string1)\n",
    "\n",
    "print(\"Data type of num_string after Type Casting:\",type(num_string2) , num_string2)\n",
    "\n",
    "print(\"Data type of num_string after Type Casting:\",type(num_string3), num_string3)\n"
   ]
  },
  {
   "cell_type": "markdown",
   "id": "f8330ea5-86c2-4797-b20b-c34c8b41faab",
   "metadata": {},
   "source": [
    "*Question 3*"
   ]
  },
  {
   "cell_type": "code",
   "execution_count": 56,
   "id": "db694d51-a057-4b83-87e4-79f2a069f1f2",
   "metadata": {},
   "outputs": [
    {
     "name": "stdin",
     "output_type": "stream",
     "text": [
      "Enter length=  5\n",
      "Enter width=  6\n"
     ]
    },
    {
     "name": "stdout",
     "output_type": "stream",
     "text": [
      "Rectangle area =  30\n"
     ]
    }
   ],
   "source": [
    "#taking input in length variable \n",
    "length=int(input(\"Enter length= \"))\n",
    "\n",
    "#taking input in breadth variable\n",
    "breadth=int(input(\"Enter width= \"))\n",
    "\n",
    "area=length*breadth\n",
    "print(\"Rectangle area = \",area)"
   ]
  },
  {
   "cell_type": "markdown",
   "id": "9593c31d-8171-4f7e-be9b-795d67048beb",
   "metadata": {},
   "source": [
    "*Question 4*"
   ]
  },
  {
   "cell_type": "code",
   "execution_count": 61,
   "id": "db2571e3-1a52-4e77-8def-72d0c3eece5c",
   "metadata": {},
   "outputs": [
    {
     "name": "stdout",
     "output_type": "stream",
     "text": [
      "The area of the rectangle is: 30.00\n"
     ]
    }
   ],
   "source": [
    "# Display the result using the print function with two decimal places\n",
    "print(\"The area of the rectangle is: {:.2f}\".format(area))"
   ]
  },
  {
   "cell_type": "markdown",
   "id": "b65e4c89-3089-4b3b-aa6c-2a28a0de2954",
   "metadata": {},
   "source": [
    "*Question 5*"
   ]
  },
  {
   "cell_type": "code",
   "execution_count": 64,
   "id": "2fb57558-437e-4ab9-b5be-063deeaae9e5",
   "metadata": {
    "scrolled": true
   },
   "outputs": [
    {
     "name": "stdin",
     "output_type": "stream",
     "text": [
      "Enter the first number:  5\n",
      "Enter the second number:  10\n",
      "Enter the third number:  22\n"
     ]
    },
    {
     "name": "stdout",
     "output_type": "stream",
     "text": [
      "The average of the three numbers is: 12.33\n"
     ]
    }
   ],
   "source": [
    "# Prompt the user to enter three numbers\n",
    "num1 = float(input(\"Enter the first number: \"))\n",
    "num2 = float(input(\"Enter the second number: \"))\n",
    "num3 = float(input(\"Enter the third number: \"))\n",
    "\n",
    "# Calculate the average\n",
    "average = (num1 + num2 + num3) / 3\n",
    "\n",
    "# Display the result using the % formatting method\n",
    "print(\"The average of the three numbers is: %.2f\" % average)"
   ]
  },
  {
   "cell_type": "markdown",
   "id": "4035fba7-5e1d-4686-a3d2-46d17f639d22",
   "metadata": {},
   "source": [
    "***Part 3*** **Language Components**"
   ]
  },
  {
   "cell_type": "markdown",
   "id": "a3964140-c9e6-425e-90d4-a279931d9f09",
   "metadata": {},
   "source": [
    "*Question 1*"
   ]
  },
  {
   "cell_type": "code",
   "execution_count": 69,
   "id": "b8e4fca6-2e5a-46aa-8ce2-4549c0fe343f",
   "metadata": {},
   "outputs": [
    {
     "name": "stdin",
     "output_type": "stream",
     "text": [
      "Enter a number (or type 'exit' to quit):  5\n"
     ]
    },
    {
     "name": "stdout",
     "output_type": "stream",
     "text": [
      "The number is positive.\n"
     ]
    },
    {
     "name": "stdin",
     "output_type": "stream",
     "text": [
      "Enter a number (or type 'exit' to quit):  -1\n"
     ]
    },
    {
     "name": "stdout",
     "output_type": "stream",
     "text": [
      "The number is negative.\n"
     ]
    },
    {
     "name": "stdin",
     "output_type": "stream",
     "text": [
      "Enter a number (or type 'exit' to quit):  0\n"
     ]
    },
    {
     "name": "stdout",
     "output_type": "stream",
     "text": [
      "The number is zero.\n"
     ]
    },
    {
     "name": "stdin",
     "output_type": "stream",
     "text": [
      "Enter a number (or type 'exit' to quit):  exit\n"
     ]
    }
   ],
   "source": [
    "while True:\n",
    "    user_input = input(\"Enter a number (or type 'exit' to quit): \")\n",
    "\n",
    "    # Check if the user wants to exit\n",
    "    if user_input.lower() == 'exit':\n",
    "        break\n",
    "\n",
    "    # Convert input to a number\n",
    "    try:\n",
    "        number = float(user_input)\n",
    "        # Determine if the number is positive, negative, or zero\n",
    "        if number > 0:\n",
    "            print(\"The number is positive.\")\n",
    "        elif number < 0:\n",
    "            print(\"The number is negative.\")\n",
    "        else:\n",
    "            print(\"The number is zero.\")\n",
    "    except ValueError:\n",
    "        print(\"Please enter a valid number or 'exit' to quit.\")\n",
    "    continue  # Prompt for a new number if input is not 'exit'"
   ]
  },
  {
   "cell_type": "markdown",
   "id": "c439b707-b07c-4b4d-9cca-200bb7c29d52",
   "metadata": {},
   "source": [
    "*Question 2*"
   ]
  },
  {
   "cell_type": "code",
   "execution_count": 74,
   "id": "18e1aca5-7210-4f57-b165-4ab345ae5fd0",
   "metadata": {},
   "outputs": [
    {
     "name": "stdin",
     "output_type": "stream",
     "text": [
      "Enter the first number:  5\n",
      "Enter the second number:  22\n"
     ]
    },
    {
     "name": "stdout",
     "output_type": "stream",
     "text": [
      "One number is even and the other is odd.\n"
     ]
    }
   ],
   "source": [
    "# Input two numbers from the user\n",
    "first_number = int(input(\"Enter the first number: \"))\n",
    "second_number = int(input(\"Enter the second number: \"))\n",
    "\n",
    "# Check whether both numbers are even, odd, or one of each using relational and logical operator\n",
    "if first_number % 2 == 0 and second_number % 2 == 0:\n",
    "    print(\"Both numbers are even.\")\n",
    "elif first_number % 2 != 0 and second_number % 2 != 0:\n",
    "    print(\"Both numbers are odd.\")\n",
    "else:\n",
    "    print(\"One number is even and the other is odd.\")"
   ]
  },
  {
   "cell_type": "markdown",
   "id": "40d442d9-33bd-46af-949c-38e530ac0f3d",
   "metadata": {},
   "source": [
    "*Question 3*"
   ]
  },
  {
   "cell_type": "code",
   "execution_count": 77,
   "id": "ab161466-082c-42cc-ae1e-ac3474a9646d",
   "metadata": {},
   "outputs": [
    {
     "name": "stdin",
     "output_type": "stream",
     "text": [
      "Enter an integer:  22\n"
     ]
    },
    {
     "name": "stdout",
     "output_type": "stream",
     "text": [
      "Binary: 10110\n",
      "Octal: 13\n",
      "Hexadecimal: 16\n"
     ]
    }
   ],
   "source": [
    "# Function to convert a number to binary, octal, and hexadecimal using bitwise operations\n",
    "def convert_number(num):\n",
    "    # Binary conversion\n",
    "    binary = ''\n",
    "    for i in range(num.bit_length(), -1, -1):\n",
    "        binary += '1' if (num >> i) & 1 else '0'\n",
    "    binary = binary.lstrip('0') or '0'  # Remove leading zeros\n",
    "\n",
    "    # Octal conversion\n",
    "    octal = ''\n",
    "    for i in range(num.bit_length() - 1, -1, -3):  # Group by 3 bits for octal\n",
    "        octal_digit = (num >> i) & 7  # Extract 3 bits at a time\n",
    "        octal += str(octal_digit)\n",
    "    octal = octal.lstrip('0') or '0'  # Remove leading zeros\n",
    "\n",
    "    # Hexadecimal conversion\n",
    "    hex_digits = \"0123456789ABCDEF\"\n",
    "    hexadecimal = ''\n",
    "    for i in range(num.bit_length() - 1, -1, -4):  # Group by 4 bits for hexadecimal\n",
    "        hex_digit = (num >> i) & 15  # Extract 4 bits at a time\n",
    "        hexadecimal += hex_digits[hex_digit]\n",
    "    hexadecimal = hexadecimal.lstrip('0') or '0'  # Remove leading zeros\n",
    "\n",
    "    print(f\"Binary: {binary}\")\n",
    "    print(f\"Octal: {octal}\")\n",
    "    print(f\"Hexadecimal: {hexadecimal}\")\n",
    "\n",
    "# Take integer input from the user\n",
    "number = int(input(\"Enter an integer: \"))\n",
    "convert_number(number)"
   ]
  }
 ],
 "metadata": {
  "kernelspec": {
   "display_name": "Python 3 (ipykernel)",
   "language": "python",
   "name": "python3"
  },
  "language_info": {
   "codemirror_mode": {
    "name": "ipython",
    "version": 3
   },
   "file_extension": ".py",
   "mimetype": "text/x-python",
   "name": "python",
   "nbconvert_exporter": "python",
   "pygments_lexer": "ipython3",
   "version": "3.12.4"
  }
 },
 "nbformat": 4,
 "nbformat_minor": 5
}
