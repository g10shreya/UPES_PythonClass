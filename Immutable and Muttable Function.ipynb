{
 "cells": [
  {
   "cell_type": "markdown",
   "id": "dbe1e215-f8d3-456f-9acd-25a5a4141630",
   "metadata": {},
   "source": [
    "**Functions - Immutable Functions**"
   ]
  },
  {
   "cell_type": "code",
   "execution_count": 12,
   "id": "753e0e72-9cb5-4985-9ff1-cbeb03af5ae8",
   "metadata": {},
   "outputs": [],
   "source": [
    " def modify_immutable(x):\n",
    "      x += 1\n",
    "      print(f\"Inside function: {x}\")\n",
    " "
   ]
  },
  {
   "cell_type": "code",
   "execution_count": 14,
   "id": "1dbac087-be03-4e77-b3be-921583b3c872",
   "metadata": {},
   "outputs": [
    {
     "name": "stdout",
     "output_type": "stream",
     "text": [
      "Inside function: 6\n",
      "Outside function: 5\n"
     ]
    }
   ],
   "source": [
    "  a = 5\n",
    "  modify_immutable(a)\n",
    "  print(f\"Outside function: {a}\")  # Output: 5 (unchanged)"
   ]
  },
  {
   "cell_type": "markdown",
   "id": "c16d0ae1-d949-4de7-91e1-b98703f51302",
   "metadata": {},
   "source": [
    "**Mutable Functions**"
   ]
  },
  {
   "cell_type": "code",
   "execution_count": 18,
   "id": "0a4b21ac-fb08-4692-96db-f1648d35639e",
   "metadata": {},
   "outputs": [
    {
     "name": "stdout",
     "output_type": "stream",
     "text": [
      "Inside function: [1, 2, 3, 4]\n",
      "Outside function: [1, 2, 3, 4]\n"
     ]
    }
   ],
   "source": [
    "  def modify_mutable(lst):\n",
    "      lst.append(4)\n",
    "      print(f\"Inside function: {lst}\")\n",
    "\n",
    "  my_list = [1, 2, 3]\n",
    "  modify_mutable(my_list)\n",
    "  print(f\"Outside function: {my_list}\")  # Output: [1, 2, 3, 4] (modified)\n"
   ]
  },
  {
   "cell_type": "code",
   "execution_count": null,
   "id": "15a1f4f4-868d-4344-97a2-606675e7990b",
   "metadata": {},
   "outputs": [],
   "source": []
  }
 ],
 "metadata": {
  "kernelspec": {
   "display_name": "Python 3 (ipykernel)",
   "language": "python",
   "name": "python3"
  },
  "language_info": {
   "codemirror_mode": {
    "name": "ipython",
    "version": 3
   },
   "file_extension": ".py",
   "mimetype": "text/x-python",
   "name": "python",
   "nbconvert_exporter": "python",
   "pygments_lexer": "ipython3",
   "version": "3.12.4"
  }
 },
 "nbformat": 4,
 "nbformat_minor": 5
}
