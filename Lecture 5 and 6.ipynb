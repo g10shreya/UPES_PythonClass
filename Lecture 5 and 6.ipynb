{
 "cells": [
  {
   "cell_type": "markdown",
   "id": "bbb464b8-b477-44f7-a2ed-5d1307013c68",
   "metadata": {},
   "source": [
    "**Lecture 5 @ 30th August**"
   ]
  },
  {
   "cell_type": "markdown",
   "id": "99c5df1a-3dc6-4681-9337-7e3a3fc8bbb6",
   "metadata": {},
   "source": [
    "*Deep Copy Concept*"
   ]
  },
  {
   "cell_type": "code",
   "execution_count": 4,
   "id": "4d804589-4187-4e9f-882f-5afe33694404",
   "metadata": {},
   "outputs": [
    {
     "name": "stdout",
     "output_type": "stream",
     "text": [
      "BEFORE ANY CHANGE TO A AND B LIST \n",
      "id(A)-> 2114353149120\n",
      "id(B)-> 2114353139200\n",
      "a=>[1, 2, 3, [100, 200], 4, 5, 6]\n",
      "b=>[1, 2, 3, [100, 200], 4, 5, 6]\n",
      "\n",
      "AFTER CHANGES IN A and B LIST \n",
      "a=>[1, 2, 3, [100, 200], 4, 5, 6]\n",
      "b=>[100, 2, 3, [999, 200], 4, 5, 6]\n"
     ]
    }
   ],
   "source": [
    "# help to import the modules \n",
    "from copy import deepcopy\n",
    "\n",
    "a = [1, 2, 3, [100, 200], 4, 5, 6]\n",
    "\n",
    "b = deepcopy(a)  # DEEPCOPY use kar leya direct library m se\n",
    "print(\"BEFORE ANY CHANGE TO A AND B LIST \")\n",
    "print(f\"id(A)-> {id(a)}\")\n",
    "print(f\"id(B)-> {id(b)}\")\n",
    "\n",
    "print(f\"a=>{a}\")\n",
    "print(f\"b=>{b}\")\n",
    "\n",
    "\n",
    "b[0] = 100\n",
    "b[3][0] = 999\n",
    "print()\n",
    "print(\"AFTER CHANGES IN A and B LIST \")\n",
    "\n",
    "print(f\"a=>{a}\")\n",
    "print(f\"b=>{b}\")"
   ]
  },
  {
   "cell_type": "code",
   "execution_count": 7,
   "id": "2603c786-1041-41e5-9a60-3ccecf3cac94",
   "metadata": {},
   "outputs": [],
   "source": [
    "# listA=[2,3,4,[1,3]]\n",
    "# listB=[x for x in listA]\n",
    "# showDetails(listA,listB)\n",
    "\n",
    "# listB[1]=44\n",
    "# listB[3][0]=55\n",
    "# showDetails(listA,listB)\n"
   ]
  },
  {
   "cell_type": "markdown",
   "id": "9ba5025e-0883-4d64-b8fd-5c42ad14b0c7",
   "metadata": {},
   "source": [
    "**Copy Concept**"
   ]
  },
  {
   "cell_type": "code",
   "execution_count": 10,
   "id": "1a3c8676-475c-4713-9e4d-f2f174b6166b",
   "metadata": {},
   "outputs": [
    {
     "name": "stdout",
     "output_type": "stream",
     "text": [
      "id(A)-> 2114353166592\n",
      "id(B)-> 2114353165888\n",
      "a=>[1, 2, 3, 4, 5, 6]\n",
      "b=>[1, 2, 3, 4, 5, 6]\n",
      "\n",
      "a=>[1, 2, 3, 4, 5, 6]\n",
      "b=>[100, 2, 3, 4, 5, 6]\n"
     ]
    }
   ],
   "source": [
    "\"\"\"\n",
    "Shallow Copy and Deep Copy concept in list \n",
    "\"\"\"\n",
    "\n",
    "a = [1, 2, 3, 4, 5, 6]\n",
    "\n",
    "b = (\n",
    "    a.copy()\n",
    ")  # this is not the good method to save the duplicate list, we just have to copy the memory \n",
    "print(f\"id(A)-> {id(a)}\")\n",
    "print(f\"id(B)-> {id(b)}\")\n",
    "\n",
    "print(f\"a=>{a}\")\n",
    "print(f\"b=>{b}\")\n",
    "\n",
    "\n",
    "b[0] = 100\n",
    "print()\n",
    "print(f\"a=>{a}\")\n",
    "print(f\"b=>{b}\")\n",
    "# NOTE that value of A list also changes at index position 0,\n",
    "# therefore to avoid this we use the concept of shallow copy and deep copy\n",
    "# as done above\n",
    "\n",
    "# DEEP COPY : TO change the ID of Nested List "
   ]
  },
  {
   "cell_type": "code",
   "execution_count": null,
   "id": "03fff528-50d8-4db3-b0c8-ee9f86a13daa",
   "metadata": {},
   "outputs": [],
   "source": []
  },
  {
   "cell_type": "markdown",
   "id": "bb62cd68-e7a1-43b5-b6be-fcf64e362077",
   "metadata": {},
   "source": [
    "**Function in Python**"
   ]
  },
  {
   "cell_type": "code",
   "execution_count": 14,
   "id": "27c7dcd2-0ceb-4ccc-b2ae-8feb607e96d6",
   "metadata": {},
   "outputs": [
    {
     "name": "stdout",
     "output_type": "stream",
     "text": [
      "Hello, JAAT!\n"
     ]
    }
   ],
   "source": [
    "def greet(name):\n",
    "\n",
    "    \"\"\"Greets a person by their name.\"\"\"\n",
    "    return f\"Hello, {name}!\"\n",
    "\n",
    "message = greet(\"JAAT\")\n",
    "print(message) "
   ]
  },
  {
   "cell_type": "markdown",
   "id": "b36209ca-6265-4515-8edd-0a1743fe92c5",
   "metadata": {},
   "source": [
    "**Write a program to add three number and return it value**"
   ]
  },
  {
   "cell_type": "code",
   "execution_count": 17,
   "id": "c29aeb13-9c97-425e-8052-60168232d7c0",
   "metadata": {},
   "outputs": [
    {
     "name": "stdout",
     "output_type": "stream",
     "text": [
      "The Sum of Three number are => 16\n"
     ]
    }
   ],
   "source": [
    "def add(a, b,c):\n",
    "\n",
    "    \n",
    "    return a + b + c  \n",
    "\n",
    "\n",
    "result = add(5, 3,8)\n",
    "print(f\"The Sum of Three number are => {result}\") "
   ]
  },
  {
   "cell_type": "code",
   "execution_count": 21,
   "id": "bcd1b90b-98ab-4472-8cab-ff60a4856b24",
   "metadata": {},
   "outputs": [
    {
     "name": "stdout",
     "output_type": "stream",
     "text": [
      "My name is Shekhar, and I am 27 years old.\n",
      "My name is Pookie, and I am 30 years old.\n"
     ]
    }
   ],
   "source": [
    "# Keyword Parameter in python\n",
    "\n",
    "def introduce(name, age=27):\n",
    "\n",
    "    \"\"\"Introduces a person with their name and age.\"\"\"\n",
    "    return f\"My name is {name}, and I am {age} years old.\"# Calling with positional arguments\n",
    "\n",
    "\n",
    "print(introduce(\"Shekhar\"))  # Output: My name is Bob, and I am 25 years old.Calling with keyword arguments\n",
    "\n",
    "\n",
    "print(introduce(name=\"Pookie\", age=30))  # Output: My name is Alice, and I am 30 years old."
   ]
  },
  {
   "cell_type": "code",
   "execution_count": 23,
   "id": "87dc1495-3fc9-435f-9817-876ce3cd006d",
   "metadata": {},
   "outputs": [
    {
     "name": "stdout",
     "output_type": "stream",
     "text": [
      "15\n",
      "60\n"
     ]
    }
   ],
   "source": [
    "# PASSING LIST,TUPLES, DICTIONARY TO THE FUNCTIONS\n",
    "def sum_numbers(numbers):\n",
    "\n",
    "    \"\"\"Sums all the numbers in a collection.\"\"\"\n",
    "    return sum(numbers)# Passing a list to the function\n",
    "\n",
    "\n",
    "result = sum_numbers([1, 2, 3, 4, 5])\n",
    "print(result)  # Output: 15Passing a tuple to the function\n",
    "\n",
    "\n",
    "result = sum_numbers((10, 20, 30))\n",
    "print(result)  # Output: 60"
   ]
  },
  {
   "cell_type": "markdown",
   "id": "bd7f08f6-07aa-4325-aba5-976845efe697",
   "metadata": {},
   "source": [
    "**Variable Number of Arguments ( args and Kwargs)**"
   ]
  },
  {
   "cell_type": "code",
   "execution_count": null,
   "id": "8f11a09d-f893-4504-9685-6e4627fdded0",
   "metadata": {},
   "outputs": [],
   "source": [
    "# mandatory variable always come in left side and rest dafualt etc will come on righthand side"
   ]
  },
  {
   "cell_type": "code",
   "execution_count": 26,
   "id": "6fd60df7-406c-4257-84e6-0dbb29ccc482",
   "metadata": {},
   "outputs": [
    {
     "name": "stdout",
     "output_type": "stream",
     "text": [
      "1\n",
      "2\n",
      "3\n",
      "4\n",
      "name: Alice\n",
      "age: 30\n"
     ]
    }
   ],
   "source": [
    "# if we need some more argument as per the user requirement \n",
    "def print_numbers(*args):\n",
    "\n",
    "    for number in args:\n",
    "        print(number)\n",
    "\n",
    "print_numbers(1, 2, 3, 4)\n",
    "\n",
    "def print_key_value(**kwargs):\n",
    "    for key, value in kwargs.items():\n",
    "        print(f\"{key}: {value}\")\n",
    "\n",
    "\n",
    "print_key_value(name=\"Alice\", age=30)"
   ]
  },
  {
   "cell_type": "code",
   "execution_count": 28,
   "id": "f5bc7448-e208-4171-b401-4f1fc9c12d06",
   "metadata": {},
   "outputs": [
    {
     "name": "stdout",
     "output_type": "stream",
     "text": [
      "1\n",
      "(2, 3, 4)\n"
     ]
    }
   ],
   "source": [
    "\n",
    "\n",
    "def sum3(a,*args):\n",
    "    print(a)\n",
    "    print(args)\n",
    "    res=a\n",
    "    for i in range(0,len(args)):\n",
    "        res=res+args[i]\n",
    "        \n",
    "    return res\n",
    "\n",
    "res=sum3(1,2,3,4)\n",
    "\n"
   ]
  },
  {
   "cell_type": "code",
   "execution_count": 36,
   "id": "c72fa9e5-d766-4896-a660-9324e23ed136",
   "metadata": {},
   "outputs": [],
   "source": [
    "dict1={\n",
    "    \"name\":\"Shekhar\",\n",
    "    \"batch\":\"B1\",\n",
    "    \"classtime\":\"11:AM\"\n",
    "}"
   ]
  },
  {
   "cell_type": "code",
   "execution_count": 38,
   "id": "4ec387f9-bbfd-42bd-bbd7-c224eb834db7",
   "metadata": {},
   "outputs": [
    {
     "name": "stdout",
     "output_type": "stream",
     "text": [
      "name: Shekhar\n",
      "age: 27\n",
      "Job: CyberTech\n"
     ]
    }
   ],
   "source": [
    "# using keyword argument in python \n",
    "def printdict(**info):\n",
    "    for key, value in info.items():\n",
    "        print(f\"{key}: {value}\")\n",
    "\n",
    "dict1={\n",
    "    \"name\":\"Shekhar\",\n",
    "    \"batch\":\"B1\",\n",
    "    \"classtime\":\"11:AM\"\n",
    "}\n",
    "\n",
    "printdict(name=\"Shekhar\",age=27,Job=\"CyberTech\")"
   ]
  },
  {
   "cell_type": "markdown",
   "id": "8fbd654d-5bda-4759-9a13-573721592e5a",
   "metadata": {},
   "source": [
    "***Lecture 6 @ 04th September***"
   ]
  },
  {
   "cell_type": "code",
   "execution_count": null,
   "id": "fd153b88-d9a5-4705-9507-56dca259f951",
   "metadata": {},
   "outputs": [],
   "source": []
  },
  {
   "cell_type": "markdown",
   "id": "5ef7752b-5cac-441a-928a-e328a6d9fe63",
   "metadata": {},
   "source": [
    "*Question - \n",
    "write a function that take one variable as input and return it sum , cumulative sum, average , min and maximum value. implement this function using for loop. define function documentation using docstring and show its uses*"
   ]
  },
  {
   "cell_type": "code",
   "execution_count": 42,
   "id": "5081934b-f2dd-4489-ad18-b156ee0c87b6",
   "metadata": {},
   "outputs": [
    {
     "name": "stdout",
     "output_type": "stream",
     "text": [
      "{'sum': 38, 'cumulative_sum': [2, 5, 9, 14, 21, 29, 38], 'average': 5.428571428571429, 'min': 2, 'max': 9}\n"
     ]
    }
   ],
   "source": [
    "def display(list1)->None:\n",
    "    total=0\n",
    "    list2=[]\n",
    "    for i in list1:\n",
    "        total=total+i\n",
    "        list2.append(total)\n",
    "        \n",
    "    length=len(list1)\n",
    "#     print(f\"Sum is -> {sum(list1)}\")\n",
    "#     print(f\"cumulative Sum is -> {list2}\")\n",
    "#     print(f\"Average is -> {total/length}\")\n",
    "#     print(f\"Minimum is -> {min(list1)}\")\n",
    "#     print(f\"Maximum is -> {max(list1)}\")\n",
    "    result = {\n",
    "        'sum': total,\n",
    "        'cumulative_sum': list2,\n",
    "        'average': total / length if length > 0 else 0,\n",
    "        'min': min(list1),\n",
    "        'max': max(list1)\n",
    "    }\n",
    "    return result\n",
    "\n",
    "list1=[2,3,4,5,7,8,9]\n",
    "val=display(list1)\n",
    "print(val)"
   ]
  }
 ],
 "metadata": {
  "kernelspec": {
   "display_name": "Python 3 (ipykernel)",
   "language": "python",
   "name": "python3"
  },
  "language_info": {
   "codemirror_mode": {
    "name": "ipython",
    "version": 3
   },
   "file_extension": ".py",
   "mimetype": "text/x-python",
   "name": "python",
   "nbconvert_exporter": "python",
   "pygments_lexer": "ipython3",
   "version": "3.12.4"
  }
 },
 "nbformat": 4,
 "nbformat_minor": 5
}
