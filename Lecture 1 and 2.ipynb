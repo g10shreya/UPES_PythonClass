{
 "cells": [
  {
   "cell_type": "markdown",
   "id": "bbb9d254-8c02-4899-93d6-3707e8dfc177",
   "metadata": {},
   "source": [
    "**String In Python**"
   ]
  },
  {
   "cell_type": "code",
   "execution_count": 2,
   "id": "e7f89f32-15f8-46aa-b2c3-041542faa70c",
   "metadata": {},
   "outputs": [
    {
     "name": "stdout",
     "output_type": "stream",
     "text": [
      "Shekhar\n"
     ]
    },
    {
     "data": {
      "text/plain": [
       "str"
      ]
     },
     "execution_count": 2,
     "metadata": {},
     "output_type": "execute_result"
    }
   ],
   "source": [
    "# string concept in python \n",
    "\n",
    "mystring=\"Shekhar\"\n",
    "print(mystring)\n",
    "type(mystring)"
   ]
  },
  {
   "cell_type": "code",
   "execution_count": 4,
   "id": "f235e3a0-9ffb-4b60-8f86-ba255e99f16a",
   "metadata": {},
   "outputs": [
    {
     "data": {
      "text/plain": [
       "'SHEKHAR'"
      ]
     },
     "execution_count": 4,
     "metadata": {},
     "output_type": "execute_result"
    }
   ],
   "source": [
    "mystring.upper() #will convert string in capital letters "
   ]
  },
  {
   "cell_type": "code",
   "execution_count": 6,
   "id": "98a0adec-9e34-41bc-b759-478365e07c5d",
   "metadata": {},
   "outputs": [
    {
     "data": {
      "text/plain": [
       "'shekhar'"
      ]
     },
     "execution_count": 6,
     "metadata": {},
     "output_type": "execute_result"
    }
   ],
   "source": [
    "mystring.lower() #will convert in lower letters"
   ]
  },
  {
   "cell_type": "code",
   "execution_count": 8,
   "id": "e99a2242-0148-4119-85de-630215a13b02",
   "metadata": {},
   "outputs": [
    {
     "data": {
      "text/plain": [
       "'Shfkhar'"
      ]
     },
     "execution_count": 8,
     "metadata": {},
     "output_type": "execute_result"
    }
   ],
   "source": [
    "mystring.replace(\"e\",\"f\") #will replace the given string with something else "
   ]
  },
  {
   "cell_type": "code",
   "execution_count": 10,
   "id": "cafe41ce-32ae-44a5-b281-1443f5603631",
   "metadata": {},
   "outputs": [
    {
     "name": "stdout",
     "output_type": "stream",
     "text": [
      "hiclass\n",
      "hi class\n"
     ]
    }
   ],
   "source": [
    "# string concatenation \n",
    "str1=\"hi\"\n",
    "str2=\"class\"\n",
    "print(str1+str2)\n",
    "\n",
    "# If we have to bring space in between then we will use \"\" in between\n",
    "print(str1+\" \"+str2)"
   ]
  },
  {
   "cell_type": "code",
   "execution_count": 12,
   "id": "d0de226c-7c39-414f-89eb-fb24441b0c59",
   "metadata": {},
   "outputs": [
    {
     "name": "stdout",
     "output_type": "stream",
     "text": [
      "hihihi\n"
     ]
    }
   ],
   "source": [
    "print(str1 *3)"
   ]
  },
  {
   "cell_type": "code",
   "execution_count": 14,
   "id": "b14b9d6d-4013-4106-8117-65398fe402dc",
   "metadata": {},
   "outputs": [
    {
     "name": "stdout",
     "output_type": "stream",
     "text": [
      "True\n"
     ]
    }
   ],
   "source": [
    "# membership function  : to check whether the item is in string or not\n",
    "\n",
    "str1=\"Unfollow Shekhar\"\n",
    "print(\"follow\"in str1)  #This will return true"
   ]
  },
  {
   "cell_type": "code",
   "execution_count": 16,
   "id": "72953be1-bb25-4a38-9bea-35b2d61b36b6",
   "metadata": {},
   "outputs": [
    {
     "name": "stdout",
     "output_type": "stream",
     "text": [
      "10\n"
     ]
    }
   ],
   "source": [
    "str3=\"0123456789\"\n",
    "# to check the length of string \n",
    "print(len(str3))"
   ]
  },
  {
   "cell_type": "code",
   "execution_count": 18,
   "id": "74c3eb2e-c2e9-4dd4-8621-503034136891",
   "metadata": {},
   "outputs": [
    {
     "data": {
      "text/plain": [
       "'0'"
      ]
     },
     "execution_count": 18,
     "metadata": {},
     "output_type": "execute_result"
    }
   ],
   "source": [
    "str3[0]"
   ]
  },
  {
   "cell_type": "code",
   "execution_count": 20,
   "id": "2fbb0b9c-474d-46d5-93ba-1462605c94e8",
   "metadata": {},
   "outputs": [
    {
     "data": {
      "text/plain": [
       "'0123456789'"
      ]
     },
     "execution_count": 20,
     "metadata": {},
     "output_type": "execute_result"
    }
   ],
   "source": [
    "str3[0:10] # here 10 index position value will be excluded"
   ]
  },
  {
   "cell_type": "code",
   "execution_count": 22,
   "id": "f1d4051e-116e-45d9-9575-d47bc6b7b870",
   "metadata": {},
   "outputs": [
    {
     "name": "stdout",
     "output_type": "stream",
     "text": [
      "False\n",
      "True\n"
     ]
    }
   ],
   "source": [
    "# string comparsion\n",
    "str1=\"apple\"\n",
    "str2=\"banana\"\n",
    "\n",
    "print(str1==str2)\n",
    "print(str1<str2)  # Dictonary->  alphabets ascending order m B is greater than A   ( completed based on od"
   ]
  },
  {
   "cell_type": "code",
   "execution_count": 26,
   "id": "22341c54-e071-41c4-93a2-d5ef8600606f",
   "metadata": {},
   "outputs": [
    {
     "name": "stdout",
     "output_type": "stream",
     "text": [
      "True\n"
     ]
    }
   ],
   "source": [
    "\n",
    "\n",
    "a=\"aaabc\"\n",
    "b=\"aabc\"\n",
    "print(a<b)# checking the alphabets if it is desecending or not \n",
    "\n"
   ]
  },
  {
   "cell_type": "code",
   "execution_count": 28,
   "id": "ca562d35-4ce2-44df-a6da-3a2039893463",
   "metadata": {},
   "outputs": [
    {
     "name": "stdout",
     "output_type": "stream",
     "text": [
      "hi \"python\"\n"
     ]
    }
   ],
   "source": [
    "# ESCAPE CHARACTER   \n",
    "\n",
    "str4=\"hi \\\"python\\\"\"\n",
    "print(str4)"
   ]
  },
  {
   "cell_type": "code",
   "execution_count": 36,
   "id": "67284fad-1698-4226-984d-609bccbbabf5",
   "metadata": {},
   "outputs": [
    {
     "name": "stdin",
     "output_type": "stream",
     "text": [
      "Enter your name !! Shekhar Jha \n"
     ]
    },
    {
     "name": "stdout",
     "output_type": "stream",
     "text": [
      "Hi Shekhar Jha \n",
      "Hi Shekhar Jha \n"
     ]
    }
   ],
   "source": [
    "# taking input in python\n",
    "\n",
    "name=input(\"Enter your name !!\")\n",
    "# or \n",
    "print(\"Hi \"+name)\n",
    "print(f\"Hi {name}\")  # string formatting  "
   ]
  },
  {
   "cell_type": "code",
   "execution_count": null,
   "id": "ed220ebb-21c4-4de5-8f61-bac55242c313",
   "metadata": {},
   "outputs": [],
   "source": []
  },
  {
   "cell_type": "markdown",
   "id": "6633ea22-949e-46ea-b53a-116b33041235",
   "metadata": {},
   "source": [
    "***Numeric Operations***"
   ]
  },
  {
   "cell_type": "code",
   "execution_count": 41,
   "id": "a5699f4a-8b78-40d6-bfc3-695aeb9e337f",
   "metadata": {},
   "outputs": [
    {
     "name": "stdout",
     "output_type": "stream",
     "text": [
      "16\n"
     ]
    }
   ],
   "source": [
    "print(2**4)"
   ]
  },
  {
   "cell_type": "code",
   "execution_count": 43,
   "id": "74f2cc2a-9dc5-4fd1-9807-a2f280093bd9",
   "metadata": {},
   "outputs": [
    {
     "name": "stdout",
     "output_type": "stream",
     "text": [
      "0.5\n"
     ]
    }
   ],
   "source": [
    "print(2/4)"
   ]
  },
  {
   "cell_type": "code",
   "execution_count": 45,
   "id": "cb3dc5d7-60ef-4b74-82cb-379f4c7b9b67",
   "metadata": {},
   "outputs": [
    {
     "name": "stdout",
     "output_type": "stream",
     "text": [
      "5\n"
     ]
    }
   ],
   "source": [
    "print(20//4)"
   ]
  },
  {
   "cell_type": "code",
   "execution_count": 47,
   "id": "7981961a-034d-4dfc-86e7-39ba575b0fa3",
   "metadata": {},
   "outputs": [
    {
     "name": "stdout",
     "output_type": "stream",
     "text": [
      "0\n"
     ]
    }
   ],
   "source": [
    "print(20%4)"
   ]
  },
  {
   "cell_type": "code",
   "execution_count": null,
   "id": "3b828b54-30d3-47eb-9a24-92d1a838baef",
   "metadata": {},
   "outputs": [],
   "source": []
  },
  {
   "cell_type": "markdown",
   "id": "85d0deb0-1d22-4d5b-8abf-9b72e07ef307",
   "metadata": {},
   "source": [
    "**Lecture 2 @ 23th August**"
   ]
  },
  {
   "cell_type": "markdown",
   "id": "fa49cb2f-48c6-4c97-80b6-15c96cecd191",
   "metadata": {},
   "source": [
    "*String Methods or Functions*"
   ]
  },
  {
   "cell_type": "code",
   "execution_count": 51,
   "id": "8de827d7-cf5e-4d32-97b4-d70a16352f33",
   "metadata": {},
   "outputs": [
    {
     "data": {
      "text/plain": [
       "'hewwo worwd'"
      ]
     },
     "execution_count": 51,
     "metadata": {},
     "output_type": "execute_result"
    }
   ],
   "source": [
    "x=\"hello world\"\n",
    "x.replace('l','w')"
   ]
  },
  {
   "cell_type": "code",
   "execution_count": 53,
   "id": "c9e9778b-0c42-4d8b-8138-024b30a527ee",
   "metadata": {},
   "outputs": [
    {
     "data": {
      "text/plain": [
       "2017944765104"
      ]
     },
     "execution_count": 53,
     "metadata": {},
     "output_type": "execute_result"
    }
   ],
   "source": [
    "\n",
    "\n",
    "id(x)\n",
    "\n"
   ]
  },
  {
   "cell_type": "code",
   "execution_count": 55,
   "id": "6216d398-611c-4a12-95da-39c30a9478d2",
   "metadata": {},
   "outputs": [
    {
     "data": {
      "text/plain": [
       "str"
      ]
     },
     "execution_count": 55,
     "metadata": {},
     "output_type": "execute_result"
    }
   ],
   "source": [
    "type(x)"
   ]
  },
  {
   "cell_type": "code",
   "execution_count": 57,
   "id": "c441d2b6-0ff1-4bc6-875b-529274801d76",
   "metadata": {},
   "outputs": [
    {
     "data": {
      "text/plain": [
       "'hello world'"
      ]
     },
     "execution_count": 57,
     "metadata": {},
     "output_type": "execute_result"
    }
   ],
   "source": [
    "x.replace(\"hewwo\",\"hello\")"
   ]
  },
  {
   "cell_type": "markdown",
   "id": "08986e22-3a66-4b86-ac77-b243fe2cedd0",
   "metadata": {},
   "source": [
    "**String is immutable , therefore ID wont change , it will remain permanent**"
   ]
  },
  {
   "cell_type": "code",
   "execution_count": 62,
   "id": "633c3bb5-b3ec-4c57-bc5e-ac15306009d0",
   "metadata": {},
   "outputs": [
    {
     "data": {
      "text/plain": [
       "11"
      ]
     },
     "execution_count": 62,
     "metadata": {},
     "output_type": "execute_result"
    }
   ],
   "source": [
    "# length of string\n",
    "len(x)"
   ]
  },
  {
   "cell_type": "code",
   "execution_count": 64,
   "id": "996defda-e67a-4253-9805-079805ef9c02",
   "metadata": {},
   "outputs": [
    {
     "name": "stdout",
     "output_type": "stream",
     "text": [
      "10\n"
     ]
    }
   ],
   "source": [
    "str2=\"0123456789\"\n",
    "print(len(str2))\n",
    "# the range is from 0 to N-1"
   ]
  },
  {
   "cell_type": "code",
   "execution_count": 66,
   "id": "e699c7c4-023b-4d14-87f9-1b97366f765f",
   "metadata": {},
   "outputs": [
    {
     "data": {
      "text/plain": [
       "'0'"
      ]
     },
     "execution_count": 66,
     "metadata": {},
     "output_type": "execute_result"
    }
   ],
   "source": [
    "# access the first index of the string\n",
    "str2[0]"
   ]
  },
  {
   "cell_type": "code",
   "execution_count": 70,
   "id": "1c3f6d0f-d596-4aa0-a7cd-e560ac98ffbe",
   "metadata": {},
   "outputs": [
    {
     "ename": "IndexError",
     "evalue": "string index out of range",
     "output_type": "error",
     "traceback": [
      "\u001b[1;31m---------------------------------------------------------------------------\u001b[0m",
      "\u001b[1;31mIndexError\u001b[0m                                Traceback (most recent call last)",
      "Cell \u001b[1;32mIn[70], line 1\u001b[0m\n\u001b[1;32m----> 1\u001b[0m str2[\u001b[38;5;241m12\u001b[39m]\n",
      "\u001b[1;31mIndexError\u001b[0m: string index out of range"
     ]
    }
   ],
   "source": [
    "str2[12] # if we will put bigger index than usual then it will show error "
   ]
  },
  {
   "cell_type": "code",
   "execution_count": 72,
   "id": "019978e4-e57d-4699-b606-c3d4268c8058",
   "metadata": {},
   "outputs": [
    {
     "data": {
      "text/plain": [
       "'01234'"
      ]
     },
     "execution_count": 72,
     "metadata": {},
     "output_type": "execute_result"
    }
   ],
   "source": [
    "str2[0:5]  "
   ]
  },
  {
   "cell_type": "code",
   "execution_count": 74,
   "id": "d5c0905c-51b5-4cf3-acd2-b2b5e0b6f14d",
   "metadata": {},
   "outputs": [
    {
     "data": {
      "text/plain": [
       "'0123456789'"
      ]
     },
     "execution_count": 74,
     "metadata": {},
     "output_type": "execute_result"
    }
   ],
   "source": [
    "# to print the complete string using slicing \n",
    "str2[0:len(str2)]\n",
    "\n",
    "# or\n",
    "str2[0:]"
   ]
  },
  {
   "cell_type": "code",
   "execution_count": null,
   "id": "5a4f410e-cdd8-45b3-ab57-b0e58608d2bb",
   "metadata": {},
   "outputs": [],
   "source": []
  },
  {
   "cell_type": "markdown",
   "id": "f6a514d0-e023-49cd-90f0-e860f1edb272",
   "metadata": {},
   "source": [
    "**TYPE CONVERSION IN PYTHON** "
   ]
  },
  {
   "cell_type": "code",
   "execution_count": null,
   "id": "84eb1266-cf0e-4630-b3a3-f755de954018",
   "metadata": {},
   "outputs": [],
   "source": []
  },
  {
   "cell_type": "code",
   "execution_count": 79,
   "id": "2ab8df19-cede-49e7-ad07-23a52469c566",
   "metadata": {},
   "outputs": [
    {
     "data": {
      "text/plain": [
       "5"
      ]
     },
     "execution_count": 79,
     "metadata": {},
     "output_type": "execute_result"
    }
   ],
   "source": [
    "# x=10/2\n",
    "# x\n",
    "\n",
    "# need to get output only 5 instead of 5.0\n",
    "x=int(10/2)\n",
    "x"
   ]
  },
  {
   "cell_type": "code",
   "execution_count": 81,
   "id": "339861e6-8b72-4e57-a0a6-b41211a20e51",
   "metadata": {},
   "outputs": [
    {
     "data": {
      "text/plain": [
       "False"
      ]
     },
     "execution_count": 81,
     "metadata": {},
     "output_type": "execute_result"
    }
   ],
   "source": [
    "bool(0)"
   ]
  },
  {
   "cell_type": "code",
   "execution_count": 83,
   "id": "1da2a58e-0973-492c-9b31-b05e7d4774c3",
   "metadata": {},
   "outputs": [
    {
     "data": {
      "text/plain": [
       "True"
      ]
     },
     "execution_count": 83,
     "metadata": {},
     "output_type": "execute_result"
    }
   ],
   "source": [
    "bool(-1)\n",
    "# In Python, any non-zero value is considered True when evaluated as a boolean. This includes negative numbers like -1."
   ]
  },
  {
   "cell_type": "code",
   "execution_count": 85,
   "id": "7707bb5f-c4f8-4795-befe-a75b92583e86",
   "metadata": {},
   "outputs": [
    {
     "name": "stdout",
     "output_type": "stream",
     "text": [
      "10001.000012\n"
     ]
    }
   ],
   "source": [
    "a=-10001.000012\n",
    "print(abs(a))"
   ]
  },
  {
   "cell_type": "code",
   "execution_count": 87,
   "id": "b0192421-8715-4184-87ff-cca760b89eac",
   "metadata": {},
   "outputs": [
    {
     "data": {
      "text/plain": [
       "-10001.0"
      ]
     },
     "execution_count": 87,
     "metadata": {},
     "output_type": "execute_result"
    }
   ],
   "source": [
    "\n",
    "\n",
    "round(a,2)\n",
    "\n"
   ]
  },
  {
   "cell_type": "markdown",
   "id": "a5fbe834-720f-43d3-9da2-936a40888641",
   "metadata": {},
   "source": [
    "*List in Python*"
   ]
  },
  {
   "cell_type": "code",
   "execution_count": 90,
   "id": "85cf5597-f65e-4fb6-be11-033f0fdfac5c",
   "metadata": {},
   "outputs": [
    {
     "data": {
      "text/plain": [
       "[1, 2, 3, 4]"
      ]
     },
     "execution_count": 90,
     "metadata": {},
     "output_type": "execute_result"
    }
   ],
   "source": [
    "a=[1,2,3,4]\n",
    "a"
   ]
  },
  {
   "cell_type": "code",
   "execution_count": 92,
   "id": "04df136a-817b-4b2e-b5db-0064d57d3aeb",
   "metadata": {},
   "outputs": [
    {
     "data": {
      "text/plain": [
       "1"
      ]
     },
     "execution_count": 92,
     "metadata": {},
     "output_type": "execute_result"
    }
   ],
   "source": [
    "\n",
    "\n",
    "a[0]\n",
    "\n"
   ]
  },
  {
   "cell_type": "code",
   "execution_count": 96,
   "id": "e56aad1d-6898-46ae-8c31-27d774735541",
   "metadata": {},
   "outputs": [
    {
     "data": {
      "text/plain": [
       "[15, 2, 3, 4]"
      ]
     },
     "execution_count": 96,
     "metadata": {},
     "output_type": "execute_result"
    }
   ],
   "source": [
    "# changing the value of index 0\n",
    "a[0]=15\n",
    "a\n",
    "# this prove that list are mutable "
   ]
  },
  {
   "cell_type": "code",
   "execution_count": 98,
   "id": "6b118ff8-eb00-4e4d-aa3b-faea899b5dc7",
   "metadata": {},
   "outputs": [
    {
     "data": {
      "text/plain": [
       "24"
      ]
     },
     "execution_count": 98,
     "metadata": {},
     "output_type": "execute_result"
    }
   ],
   "source": [
    "# using inbuilt function\n",
    "sum(a)"
   ]
  },
  {
   "cell_type": "markdown",
   "id": "a497ea63-1e04-49ba-b297-fb3443dff593",
   "metadata": {},
   "source": [
    "*Input Functions*"
   ]
  },
  {
   "cell_type": "code",
   "execution_count": 103,
   "id": "49844a7b-10ab-4a29-ac8b-318f9703f4b9",
   "metadata": {},
   "outputs": [
    {
     "name": "stdin",
     "output_type": "stream",
     "text": [
      "Enter your name:  Jaggu Badmash \n"
     ]
    },
    {
     "name": "stdout",
     "output_type": "stream",
     "text": [
      "my name is Jaggu Badmash \n"
     ]
    }
   ],
   "source": [
    "name=input(\"Enter your name: \")\n",
    "print(f\"my name is {name}\")"
   ]
  },
  {
   "cell_type": "markdown",
   "id": "ec5694f1-69cc-4644-ba28-ce817fd1efb5",
   "metadata": {},
   "source": [
    "*finding the size of function -> help in optimizationp purpose*"
   ]
  },
  {
   "cell_type": "code",
   "execution_count": 105,
   "id": "45210dd2-ce84-4be3-96ee-accddce0f207",
   "metadata": {},
   "outputs": [
    {
     "name": "stdout",
     "output_type": "stream",
     "text": [
      "Size of x:28 bytes\n"
     ]
    }
   ],
   "source": [
    "\n",
    "\n",
    "import sys # Sys are in built function\n",
    "\n",
    "x=42\n",
    "size=sys.getsizeof(x)\n",
    "print(f\"Size of x:{size} bytes\")\n",
    "\n"
   ]
  },
  {
   "cell_type": "markdown",
   "id": "c93d134d-3061-476f-8116-50614fbdbd01",
   "metadata": {},
   "source": [
    "#Functions"
   ]
  },
  {
   "cell_type": "code",
   "execution_count": 109,
   "id": "8b1e74ed-b200-440c-9cc6-e7fb0c8c9a6a",
   "metadata": {},
   "outputs": [
    {
     "name": "stdin",
     "output_type": "stream",
     "text": [
      "enter the number 69\n"
     ]
    },
    {
     "name": "stdout",
     "output_type": "stream",
     "text": [
      "Value is 69 \n",
      "Value  of ID is 140710311248440\n",
      "Value  of ID is <class 'int'>\n",
      "Value is 69 \n",
      "Value  of ID is 140710311248440\n",
      "Value  of ID is <class 'int'>\n"
     ]
    }
   ],
   "source": [
    "# syntax of function\n",
    "\n",
    "\n",
    "def display(testvar):\n",
    "    print(f\"Value is {testvar} \")\n",
    "    print(f\"Value  of ID is {id(testvar)}\")\n",
    "    print(f\"Value  of ID is {type(testvar)}\")\n",
    "\n",
    "a=int(input(\"enter the number\"))\n",
    "display(a)\n",
    "display(a)"
   ]
  },
  {
   "cell_type": "code",
   "execution_count": null,
   "id": "d1217537-705d-41ab-a009-0d47ebdcba65",
   "metadata": {},
   "outputs": [],
   "source": []
  },
  {
   "cell_type": "code",
   "execution_count": null,
   "id": "4610d9bf-f526-4dfe-969f-5235c3812a87",
   "metadata": {},
   "outputs": [],
   "source": []
  },
  {
   "cell_type": "code",
   "execution_count": null,
   "id": "d5909e26-d86d-47e8-b80b-9ff20bc1e62a",
   "metadata": {},
   "outputs": [],
   "source": []
  }
 ],
 "metadata": {
  "kernelspec": {
   "display_name": "Python 3 (ipykernel)",
   "language": "python",
   "name": "python3"
  },
  "language_info": {
   "codemirror_mode": {
    "name": "ipython",
    "version": 3
   },
   "file_extension": ".py",
   "mimetype": "text/x-python",
   "name": "python",
   "nbconvert_exporter": "python",
   "pygments_lexer": "ipython3",
   "version": "3.12.4"
  }
 },
 "nbformat": 4,
 "nbformat_minor": 5
}
