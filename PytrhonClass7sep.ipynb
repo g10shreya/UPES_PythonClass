{
 "cells": [
  {
   "cell_type": "markdown",
   "id": "6f493261-e81d-4e56-bfcb-05b2f404b231",
   "metadata": {},
   "source": [
    "***Write a function that takes one variable as input and return the sum , cumulative sum, average , min and max value \n",
    "Implement using for loop. Define function documentation using doc string and show its uses***"
   ]
  },
  {
   "cell_type": "code",
   "execution_count": 30,
   "id": "13c74b5e-fc6b-4bd3-9c8b-7444ce17cf5a",
   "metadata": {},
   "outputs": [
    {
     "name": "stdin",
     "output_type": "stream",
     "text": [
      "Enter the number of elements you want to insert:  4\n",
      "Enter the number:  1\n",
      "Enter the number:  2\n",
      "Enter the number:  3\n",
      "Enter the number:  4\n"
     ]
    },
    {
     "name": "stdout",
     "output_type": "stream",
     "text": [
      "Sum: 10\n",
      "Cumulative Sum: [1, 3, 6, 10]\n",
      "Average: 2.5\n",
      "Min: 1\n",
      "Max: 4\n"
     ]
    }
   ],
   "source": [
    "def calculate_statistics(numbers):\n",
    "    total_sum = 0\n",
    "    cumulative_sum = []\n",
    "    min_value = float('inf')\n",
    "    max_value = float('-inf')\n",
    "    \n",
    "    for number in numbers:\n",
    "        total_sum += number\n",
    "        cumulative_sum.append(total_sum)\n",
    "        if number < min_value:\n",
    "            min_value = number\n",
    "        if number > max_value:\n",
    "            max_value = number\n",
    "    \n",
    "    average = total_sum / len(numbers) if numbers else 0\n",
    "\n",
    "    return {\n",
    "        'sum': total_sum,\n",
    "        'cumulative_sum': cumulative_sum,\n",
    "        'average': average,\n",
    "        'min': min_value,\n",
    "        'max': max_value\n",
    "    }\n",
    "\n",
    "numbers = []\n",
    "n=int(input(\"Enter the number of elements you want to insert: \"))\n",
    "def inputter(nums):\n",
    "    for i in range(n):\n",
    "        x = int(input(\"Enter the number: \"))\n",
    "        numbers.append(x)\n",
    "\n",
    "\n",
    "inputter(n)\n",
    "statistics = calculate_statistics(numbers)\n",
    "print(\"Sum:\", statistics['sum'])\n",
    "print(\"Cumulative Sum:\", statistics['cumulative_sum'])\n",
    "print(\"Average:\", statistics['average'])\n",
    "print(\"Min:\", statistics['min'])\n",
    "print(\"Max:\", statistics['max'])\n"
   ]
  },
  {
   "cell_type": "code",
   "execution_count": null,
   "id": "e42ad354-5b09-41ff-8bf4-5b1ade9be41d",
   "metadata": {},
   "outputs": [],
   "source": []
  }
 ],
 "metadata": {
  "kernelspec": {
   "display_name": "Python 3 (ipykernel)",
   "language": "python",
   "name": "python3"
  },
  "language_info": {
   "codemirror_mode": {
    "name": "ipython",
    "version": 3
   },
   "file_extension": ".py",
   "mimetype": "text/x-python",
   "name": "python",
   "nbconvert_exporter": "python",
   "pygments_lexer": "ipython3",
   "version": "3.12.4"
  }
 },
 "nbformat": 4,
 "nbformat_minor": 5
}
